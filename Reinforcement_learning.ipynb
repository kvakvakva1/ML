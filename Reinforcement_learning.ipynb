{
  "cells": [
    {
      "cell_type": "markdown",
      "metadata": {
        "id": "m2s4kN_QPQVe"
      },
      "source": [
        "# Введение в обучение с подкреплением  (Reinforcement Learning)\n",
        "\n",
        "\n",
        "<center>\n",
        "<img src=\"https://raw.githubusercontent.com/jcformanek/jcformanek.github.io/master/docs/assets/images/rl_in_space.png\" width=\"100%\" />\n",
        "</center>\n",
        "\n",
        "\n",
        "\n",
        "**Введение**\n",
        "\n",
        "На этом семинаре мы изучим обучение с подкреплением - тип машинного обучения без учителя, где агент учится выбирать действия, которые приводят к максимальному вознаграждению в долгосрочной перспективе. Обучение с подкреплением используется в широком спектре сложных задач, в том числе - в видеоиграх, например, [Atari](https://www.deepmind.com/blog/agent57-outperforming-the-human-atari-benchmark), [StarCraft II](https://www.deepmind.com/blog/alphastar-mastering-the-real-time-strategy-game-starcraft-ii) и [Dota II](https://openai.com/five/).\n",
        "\n",
        "На семинаре изучим классическую среду - [CartPole](https://www.gymlibrary.ml/environments/classic_control/cart_pole/), где агент должен научиться балансировать шестом на тележке (см лекцию), используя несколько различных подходов RL. По пути вы познакомитесь с некоторыми из самых важных концепций и терминологии в RL.\n",
        "\n",
        "**Темы:**\n",
        "* Reinforcement Learning (RL, Обучение с подкреплением)\n",
        "* Random Policy Search (Случайный поиск политики)\n",
        "* Policy Gradient (Градиент политики)\n",
        "* Q-Learning\n",
        "\n",
        "\n",
        "**Что надо сделать для лучшего понимания:**\n",
        "\n",
        "* почитать про библиотеку [JAX](https://github.com/google/jax).\n",
        "* вспомнить нейроки.\n",
        "\n"
      ]
    },
    {
      "cell_type": "markdown",
      "metadata": {
        "id": "6EqhIg1odqg0"
      },
      "source": [
        "### Настраиваем среду"
      ]
    },
    {
      "cell_type": "code",
      "execution_count": 115,
      "metadata": {
        "id": "4boGA9rYdt9l"
      },
      "outputs": [],
      "source": [
        "%%capture\n",
        "!pip install jaxlib\n",
        "!pip install jax\n",
        "!pip install git+https://github.com/deepmind/dm-haiku\n",
        "!pip install gym==0.25\n",
        "!pip install gym[box2d]\n",
        "!pip install optax\n",
        "!pip install matplotlib\n",
        "!pip install chex\n",
        "!pip install gym[classic_control]"
      ]
    },
    {
      "cell_type": "code",
      "execution_count": 116,
      "metadata": {
        "id": "gwbqggmcRjMy"
      },
      "outputs": [],
      "source": [
        "%%capture\n",
        "import copy\n",
        "from shutil import rmtree # deleting directories\n",
        "import random\n",
        "import collections # useful data structures\n",
        "import numpy as np\n",
        "import gym # reinforcement learning environments\n",
        "from gym.wrappers import RecordVideo\n",
        "import jax\n",
        "import jax.numpy as jnp # jax numpy\n",
        "import haiku as hk # jax neural network library\n",
        "import optax # jax optimizer library\n",
        "import matplotlib.pyplot as plt # graph plotting library\n",
        "from IPython.display import HTML\n",
        "from base64 import b64encode\n",
        "import chex\n",
        "\n",
        "# Hide warnings\n",
        "import warnings\n",
        "warnings.filterwarnings('ignore')"
      ]
    },
    {
      "cell_type": "markdown",
      "metadata": {
        "id": "-ZUp8i37dFbU"
      },
      "source": [
        "## 1. Ключевые концепции обучения с подкреплением\n",
        "\n",
        "Обучение с подкреплением (RL) является подразделом машинного обучения (ML). В отличие от таких областей, как контролируемое обучение, где мы даем примеры ожидаемого поведения нашим моделям, RL фокусируется на *целеориентированном* обучении из взаимодействий методом проб и ошибок. Алгоритмы RL изучают, что делать (т. е. какие оптимальные действия предпринять) в среде, чтобы максимизировать некий сигнал вознаграждения. В таких условиях, как видеоигра, сигналом вознаграждения может быть счет игры, т. е. алгоритмы RL будут пытаться максимизировать счет в игре, выбирая лучшие действия.\n",
        "\n",
        "<center>\n",
        "<img src=\"https://pettingzoo.farama.org/_images/environments-demo.gif\" width=\"40%\" />\n",
        "</center>\n",
        "\n",
        "[*Image Source*](https://pettingzoo.farama.org/)\n",
        "\n",
        "Другими словами, в RL у нас есть **агент**, который воспринимает **наблюдение** $o_t$ текущего состояния $s_t$ **окружающей среды** и должен выбрать **действие** $a_t$ для выполнения.\n",
        "\n",
        "Затем окружающая среда переходит в новое состояние $s_{t+1}$ в ответ на действие агента, а также дает агенту скалярное вознаграждение $r_t$, чтобы указать, насколько хорошим или плохим было выбранное действие, учитывая состояние окружающей среды.\n",
        "\n",
        "Целью в RL является максимизация агентом суммы вознаграждения, которое он получает от окружающей среды с течением времени. Нижний индекс $t$ используется для указания номера временного шага, т. е. $s_0$ - это состояние окружающей среды на начальном временном шаге, а $a_{99}$ - это действие агента на $99-м$ временном шаге."
      ]
    },
    {
      "cell_type": "markdown",
      "metadata": {
        "id": "Ghgy69hFRjMz"
      },
      "source": [
        "### Среда - OpenAI Gym\n",
        "Как упоминалось выше, среда получает от агента действие $a_t$ и возвращает вознаграждение $r_t$ и наблюдение $o_t$.\n",
        "\n",
        "OpenAI разработал пакет для Python под названием **Gym**, который включает реализации популярных сред и простой интерфейс для взаимодействия агента RL. Чтобы использовать поддерживаемую [среду gym](https://www.gymlibrary.ml/), все, что вам нужно сделать, это передать имя среды в функцию  `gym.make(<environment_name>)`.\n",
        "\n",
        "В этом уроке мы будем использовать простую среду под названием **CartPole**. В CartPole задача агента — научиться балансировать на шесте как можно дольше, перемещая тележку *влево* или *вправо*.\n",
        "\n",
        "<img src=\"https://user-images.githubusercontent.com/10854026/32486103-f15f19de-c3a5-11e7-81de-0605df939497.gif\" width=\"50%\" />"
      ]
    },
    {
      "cell_type": "code",
      "execution_count": 117,
      "metadata": {
        "id": "WfxzajMYRjMz"
      },
      "outputs": [],
      "source": [
        "# Create the environment\n",
        "env_name = \"CartPole-v0\"\n",
        "env = gym.make(env_name)"
      ]
    },
    {
      "cell_type": "markdown",
      "metadata": {
        "id": "y_BbftaJj3zu"
      },
      "source": [
        "### Состояние (States) и Наблюдение (Observations) - $s_t$ and $o_t$\n",
        "\n",
        "В RL агент воспринимает наблюдение за состоянием среды. В некоторых настройках наблюдение может включать всю информацию, лежащую в основе состояния среды. Такая среда называется **полностью наблюдаемой**. В других настройках агент может получать только частичную информацию о состоянии среды в своем наблюдении. Такая среда называется **частично наблюдаемой**.\n",
        "\n",
        "В оставшейся части этого руководства мы будем предполагать, что среда полностью наблюдаема, и поэтому будем использовать состояние $s_t$ и наблюдение $o_t$ взаимозаменяемо. В Gym мы получаем начальное наблюдение из среды, вызывая функцию `env.reset()`."
      ]
    },
    {
      "cell_type": "code",
      "execution_count": 118,
      "metadata": {
        "colab": {
          "base_uri": "https://localhost:8080/"
        },
        "id": "HdS8nqOgRjM0",
        "outputId": "6be7eb23-6df0-438c-b60d-4ea6e71a59af"
      },
      "outputs": [
        {
          "output_type": "stream",
          "name": "stdout",
          "text": [
            "Initial State:: [ 0.02721773  0.00078831 -0.04679397 -0.04866094]\n",
            "Environment Obs Space Shape: (4,)\n"
          ]
        }
      ],
      "source": [
        "# Reset the environment\n",
        "s_0 = env.reset()\n",
        "print(\"Initial State::\", s_0)\n",
        "\n",
        "# Get environment obs space\n",
        "obs_shape = env.observation_space.shape\n",
        "print(\"Environment Obs Space Shape:\", obs_shape)"
      ]
    },
    {
      "cell_type": "markdown",
      "metadata": {
        "id": "pUNX6mbotABo"
      },
      "source": [
        "В CartPole состояние окружающей среды представлено четырьмя числами: *угловое положение полюса, угловая скорость полюса, положение тележки, скорость тележки*."
      ]
    },
    {
      "cell_type": "markdown",
      "metadata": {
        "id": "hL1Nkgy7nUfn"
      },
      "source": [
        "### Действия (Actions) - $a_t$\n",
        "\n",
        "В RL действия обычно либо **дискретные**, либо **непрерывные**. Непрерывные действия задаются вектором действительных чисел. Дискретные действия задаются целочисленным значением. В средах, где мы можем подсчитать конечный набор действий, мы обычно используем дискретные действия.\n",
        "\n",
        "В CartPole есть только два действия: *влево* и *вправо*. Таким образом, действия могут быть представлены целыми числами $0$ и $1$. В gym мы можем легко получить список возможных действий следующим образом:"
      ]
    },
    {
      "cell_type": "code",
      "execution_count": 119,
      "metadata": {
        "colab": {
          "base_uri": "https://localhost:8080/"
        },
        "id": "uOLZqU_LpIXh",
        "outputId": "b2b7c7f4-606c-4ab5-e982-17fc2273ed07"
      },
      "outputs": [
        {
          "output_type": "stream",
          "name": "stdout",
          "text": [
            "Environment action space: Discrete(2)\n",
            "Number of actions: 2\n"
          ]
        }
      ],
      "source": [
        "# Get action space - e.g. discrete or continuous\n",
        "print(f\"Environment action space: {env.action_space}\")\n",
        "\n",
        "# Get num actions\n",
        "num_actions = env.action_space.n\n",
        "print(f\"Number of actions: {num_actions}\")"
      ]
    },
    {
      "cell_type": "markdown",
      "metadata": {
        "id": "tRsflxbDpoPm"
      },
      "source": [
        "### Политика агента (The Agent's Policy) - $\\pi$\n",
        "\n",
        "В RL агент выбирает действия на основе полученных наблюдений. Мы можем представить процесс выбора действия агента как функцию, которая принимает наблюдение в качестве входных данных и возвращает действие в качестве выходных данных. В RL мы обычно называем эту функцию **политикой** агента и обозначаем ее $\\pi(s_t)=a_t$. В RL мы обычно параметризуем нашу политику каким-либо образом, а затем пытаемся узнать оптимальные параметры. Параметризованная политика обычно обозначается $\\pi_\\theta$, где $\\theta$ — это набор параметров.\n",
        "\n",
        "**Упражнение 1:** В качестве упражнения давайте реализуем простую политику, которая принимает набор параметров и наблюдение в качестве входных данных и возвращает действие. Предположим, что наблюдение — это вектор из четырех чисел, как наблюдение CartPole, и что действие должно быть либо $0$, либо $1$. Предположим также, что параметры — это вектор из четырех действительных чисел. Тогда действие должно быть вычислено следующим образом.\n",
        "\n",
        "\n",
        "1. Вычислите [скалярное произведение векторов](https://www.mathsisfun.com/algebra/vectors-dot-product.html) между наблюдением и параметрами.\n",
        "2. Если результат больше нуля, верните действие $1$.\n",
        "3. В противном случае верните действие $0$.\n",
        "\n",
        "В этом упражнении мы постараемся использовать JAX как можно чаще. Поэтому постарайтесь использовать методы JAX для этой задачи. Ниже приведены некоторые полезные методы, которые вы можете использовать. Вам нужно будет завершить код в блоке ниже, заменив `...` правильным кодом.\n",
        "\n",
        "\n",
        "**Полезные методы:**\n",
        "* Вычислите скалярное произведение векторов с помощью `jax.numpy.dot` ([docs](https://jax.readthedocs.io/en/latest/_autosummary/jax.numpy.dot.html)).\n",
        "\n",
        "* Когда вы пытаетесь условно присвоить значение $0$ или $1$ действию на основе результата скалярного произведения, вам следует использовать `jax.lax.select` ([docs](https://jax.readthedocs.io/en/latest/_autosummary/jax.lax.select.html#jax.lax.select)).\n",
        "\n",
        "Метод `jax.lax.select` принимает три аргумента в качестве входных данных. Первый аргумент — это оператор, который будет оцениваться как `True` или `False`.\n",
        "\n",
        "Если оператор равен `True`, то `jax.lax.select` вернет свой второй аргумент.\n",
        "\n",
        "Если оператор имеет значение `False`, `jax.lax.select` вернет свой третий аргумент.\n",
        "\n"
      ]
    },
    {
      "cell_type": "code",
      "execution_count": 120,
      "metadata": {
        "id": "KSGCd7XB1z8k"
      },
      "outputs": [],
      "source": [
        "def linear_policy(params, obs):\n",
        "  \"\"\"A simple linear policy\n",
        "\n",
        "  Args:\n",
        "    params: a vector of four real-numbers that give the parameters of the policy\n",
        "    obs: a vector of four real-numbers that give the agent's observation\n",
        "\n",
        "  Returns:\n",
        "    a discrete action given by a 0 or 1\n",
        "  \"\"\"\n",
        "  # YOUR CODE\n",
        "  dot_product_result = jnp.dot(params, obs)\n",
        "\n",
        "  action = jax.lax.select(\n",
        "      dot_product_result > 0, # boolean statement goes here\n",
        "      1, # result when the statement is True goes here\n",
        "      0, # result when the statement is False goes here\n",
        "  )\n",
        "  # END YOUR CODE\n",
        "  return action"
      ]
    },
    {
      "cell_type": "code",
      "execution_count": 121,
      "metadata": {
        "colab": {
          "base_uri": "https://localhost:8080/"
        },
        "id": "9EnnBvceb1f3",
        "outputId": "68fbcc28-0599-4e4f-e738-e90a10d70f36"
      },
      "outputs": [
        {
          "output_type": "stream",
          "name": "stdout",
          "text": [
            "Your function is correct!\n"
          ]
        }
      ],
      "source": [
        "# @title Проверка упр 1  { display-mode: \"form\" }\n",
        "\n",
        "def check_linear_policy(linear_policy):\n",
        "  fixed_obs = jnp.array([1,1,2,4])\n",
        "\n",
        "  # check case1 - negative dot product.\n",
        "  # weights\n",
        "  params1 = jnp.array([1,1,1,1])\n",
        "  params2 = jnp.array([-1,-1,-1,-1])\n",
        "\n",
        "  hint1 = f\"Неправильный ответ, ваша линейная политика неверна. Действие при \\\n",
        "obs={fixed_obs} и params={params1} должно быть 1\"\n",
        "\n",
        "  hint2 = f\"Неправильный ответ, ваша линейная политика неверна. Действие при \\\n",
        "obs={fixed_obs} и params={params2} должно быть 0\"\n",
        "\n",
        "  hint = None\n",
        "  if linear_policy(params1, fixed_obs) != 1:\n",
        "    hint = hint1\n",
        "  elif linear_policy(params2, fixed_obs) != 0:\n",
        "    hint = hint2\n",
        "\n",
        "  if hint is not None:\n",
        "    print(hint)\n",
        "  else:\n",
        "    print(\"Your function is correct!\")\n",
        "\n",
        "try:\n",
        "  check_linear_policy(linear_policy)\n",
        "except Exception as e:\n",
        "    print(\"An Error Occured: {}\".format(e))"
      ]
    },
    {
      "cell_type": "markdown",
      "metadata": {
        "id": "PkuvT-jf6Ieh"
      },
      "source": [
        "### Функция перехода среды - $P$\n",
        "\n",
        "Теперь, когда у нас есть политика, мы можем передавать действия от агента среде. Затем среда перейдет в новое состояние в ответ на действие агента.\n",
        "\n",
        "В RL мы моделируем этот процесс с помощью **функции перехода состояния** $P$, которая принимает текущее состояние $s_t$ и действие $a_t$ в качестве входных данных и возвращает следующее состояние $s_{t+1}$ в качестве выходных данных:\n",
        "\n",
        "<center>\n",
        "$s_{t+1}=P(s_t, a_t)$\n",
        "</center>\n",
        "\n",
        "В gym мы можем передавать действия среде, вызывая функцию `env.step(<action>)`. Затем функция вернет четыре значения:\n",
        "- **следующее наблюдение**\n",
        "- **награду** за выполненное действие\n",
        "- логический флаг, указывающий, **завершена** игра\n",
        "- некоторую **дополнительную** информацию."
      ]
    },
    {
      "cell_type": "code",
      "execution_count": 122,
      "metadata": {
        "colab": {
          "base_uri": "https://localhost:8080/"
        },
        "id": "hh0j9-Tk7olb",
        "outputId": "0d689e98-a386-42ea-a25f-c5eaf4bce8de"
      },
      "outputs": [
        {
          "output_type": "stream",
          "name": "stdout",
          "text": [
            "Observation: [ 0.00528326 -0.03153018  0.04758248  0.03314009]\n",
            "Action: 0\n",
            "Next observation: [ 0.00465266 -0.22730105  0.04824529  0.340448  ]\n",
            "Reward: 1.0\n",
            "Game is done: False\n"
          ]
        }
      ],
      "source": [
        "# Get the initial obs by resetting the env\n",
        "initial_obs = env.reset()\n",
        "\n",
        "# Randomly sample actions from env\n",
        "action = env.action_space.sample()\n",
        "\n",
        "# Step the environment\n",
        "next_obs, reward, done, info = env.step(action)\n",
        "\n",
        "print(\"Observation:\", initial_obs)\n",
        "print(\"Action:\", action)\n",
        "print(\"Next observation:\", next_obs)\n",
        "print(\"Reward:\", reward)\n",
        "print(\"Game is done:\", done)"
      ]
    },
    {
      "cell_type": "markdown",
      "metadata": {
        "id": "bX9iZtu48UYn"
      },
      "source": [
        "### Возврат эпизода - $R_t$\n",
        "\n",
        "В RL мы обычно разбиваем взаимодействие агента с окружающей средой на **эпизоды**. Сумма всех вознаграждений, собранных во время эпизода, - это то, что мы называем **возвратом** эпизода - $R_t$:\n",
        "\n",
        "<center>\n",
        "$R_t=\\sum_{t=0}^Tr_t$,\n",
        "</center>\n",
        "\n",
        "где $r_t$ - это вознаграждение в момент времени $t$, а $T$ - это последний временной шаг. Цель в RL - выбрать действия, которые максимизируют этот ожидаемый будущий возврат $R_t$."
      ]
    },
    {
      "cell_type": "markdown",
      "metadata": {
        "id": "y6KZA1Nq9p47"
      },
      "source": [
        "### Цикл агент-среда\n",
        "Теперь, когда мы знаем, что такое политика, и знаем, как пошагово проходить среду, давайте закроем цикл агент-среда.\n",
        "\n",
        "**Упражнение 2:** Напишите функцию, которая запускает один эпизод CartPole, последовательно выбирая действия и пошагово проходя среду. Вам следует использовать линейную политику, которую мы определили ранее, для выбора действий. Функция должна отслеживать полученное вознаграждение и выводить возврат в конце эпизода.\n",
        "\n",
        "В CartPole агент получает вознаграждение `1` за каждый временной шаг, когда шест все еще стоит вертикально. Если шест падает, игра заканчивается, и агент больше не получает вознаграждения. Игра также заканчивается после `200` временных шагов, поэтому максимальное вознаграждение, которое может получить агент, составляет `200`."
      ]
    },
    {
      "cell_type": "code",
      "execution_count": 123,
      "metadata": {
        "id": "Buy0X7mi-gHP"
      },
      "outputs": [],
      "source": [
        "def run_episode(env):\n",
        "  episode_return = 0 # counter to keep track of rewards\n",
        "  done = False # initially set to False\n",
        "  params = jnp.array([1,-2,2,-1]) # fixed policy parameters\n",
        "\n",
        "  ## YOUR CODE\n",
        "\n",
        "  obs = env.reset() # TODO: get the initial obs from the env\n",
        "\n",
        "  while not done: # loop until episode is done\n",
        "\n",
        "    action = linear_policy(params, obs) # TODO: compute action using linear policy\n",
        "    action = np.array(action) # We need to the convert the action from the policy to a np.array\n",
        "\n",
        "    obs, reward, done, info = env.step(action) # TODO: step the environment\n",
        "\n",
        "    episode_return += reward # TODO: add reward to episode return\n",
        "\n",
        "  return episode_return"
      ]
    },
    {
      "cell_type": "code",
      "execution_count": 124,
      "metadata": {
        "colab": {
          "base_uri": "https://localhost:8080/"
        },
        "id": "bA2Orj9PVbKO",
        "outputId": "d5d40b82-ac1f-46d7-8602-8b615c91be0b"
      },
      "outputs": [
        {
          "output_type": "stream",
          "name": "stdout",
          "text": [
            "Looks correct!\n"
          ]
        }
      ],
      "source": [
        "# @title Проверка упр 2 (run me) { display-mode: \"form\" }\n",
        "\n",
        "try:\n",
        "  env.seed(42)\n",
        "  if run_episode(env) == 31:\n",
        "    print(\"Looks correct!\")\n",
        "  else:\n",
        "    print(\"Looks like your implementation might be wrong.\")\n",
        "except Exception as e:\n",
        "    print(\"An Error Occured: {}\".format(e))"
      ]
    },
    {
      "cell_type": "markdown",
      "metadata": {
        "id": "fUGdzHxJnZGl"
      },
      "source": [
        "В CartPole среда считается решенной, когда агент может надежно достичь возврата эпизода 500. Как вы можете видеть, наша текущая политика далека от оптимальной.\n",
        "\n",
        "Один из способов найти оптимальную политику — это случайным образом пробовать разные политики, пока не найдем оптимальную. Эта стратегия называется случайным поиском политики и может быть на удивление эффективной.\n",
        "\n",
        "Прежде чем мы реализуем случайный поиск политики, давайте быстро рассмотрим общий цикл обучения RL, который мы будем использовать для реализации алгоритмов в оставшейся части этого руководства.\n",
        "\n",
        "### Цикл обучения RL общего назначения\n",
        "Мы реализовали для вас цикл обучения RL общего назначения. Цикл обучения принимает несколько аргументов в качестве входных данных, но три наиболее важных для понимания — это `agent_select_action_func`, `agent_learn_func` и `agent_memory`.\n",
        "\n",
        "* `agent_select_action_func` — это функция, которую мы определяем и можем передать в цикл обучения. Функция принимает наблюдение и набор `agent_params` в качестве входных данных и должна возвращать действие.\n",
        "* `agent_learn_func` — это еще один метод, который мы определяем и передаем в цикл обучения. Он должен принимать параметры агента и некоторые «воспоминания» в качестве входных данных, а затем обновлять и возвращать агентам новые параметры.\n",
        "* `agent_memory` — это модуль общего назначения, который мы определяем, который может хранить некоторую релевантную информацию об опыте агента в среде, которую можно использовать в `agent_learn_func`.\n",
        "\n",
        "Ниже приведена функция цикла обучения, которую мы реализовали для вас. Вы можете просмотреть код и попытаться понять его, но это не обязательно. Таким образом, мы скрыли код по умолчанию, просто убедитесь, что вы запустили ячейку кода, прежде чем двигаться дальше, потому что цикл обучения далее в коде."
      ]
    },
    {
      "cell_type": "code",
      "execution_count": 125,
      "metadata": {
        "id": "ZWBwz3zMRjM0"
      },
      "outputs": [],
      "source": [
        "#@title Training loop (run me) { display-mode: \"form\" }\n",
        "\n",
        "# NamedTuple to store transitions\n",
        "Transition = collections.namedtuple(\"Transition\", [\"obs\", \"action\", \"reward\", \"next_obs\", \"done\"])\n",
        "\n",
        "# Training Loop\n",
        "def run_training_loop(env_name, agent_params, agent_select_action_func,\n",
        "    agent_actor_state=None, agent_learn_func=None, agent_learner_state=None,\n",
        "    agent_memory=None, num_episodes=1000, evaluator_period=100,\n",
        "    evaluation_episodes=8, learn_steps_per_episode=1,\n",
        "    train_every_timestep=False, video_subdir=\"\",):\n",
        "    \"\"\"\n",
        "    This function runs several episodes in an environment and periodically does\n",
        "    some agent learning and evaluation.\n",
        "\n",
        "    Args:\n",
        "        env: a gym environment.\n",
        "        agent_params: an object to store parameters that the agent uses.\n",
        "        agent_select_func: a function that does action selection for the agent.\n",
        "        agent_actor_state (optional): an object that stores the internal state\n",
        "            of the agents action selection function.\n",
        "        agent_learn_func (optional): a function that does some learning for the\n",
        "            agent by updating the agent parameters.\n",
        "        agent_learn_state (optional): an object that stores the internal state\n",
        "            of the agent learn function.\n",
        "        agent_memory (optional): an object for storing an retrieving historical\n",
        "            experience.\n",
        "        num_episodes: how many episodes to run.\n",
        "        evaluator_period: how often to run evaluation.\n",
        "        evaluation_episodes: how many evaluation episodes to run.\n",
        "        train_every_timestep: whether to train every timestep rather than at the end\n",
        "            of the episode.\n",
        "        video_subdir: subdirectory to store epsiode recordings.\n",
        "\n",
        "    Returns:\n",
        "        episode_returns: list of all the episode returns.\n",
        "        evaluator_episode_returns: list of all the evaluator episode returns.\n",
        "    \"\"\"\n",
        "\n",
        "    # Setup Cartpole environment and recorder\n",
        "    env = gym.make(env_name, render_mode=\"rgb_array\") # training environment\n",
        "    eval_env = gym.make(env_name, render_mode=\"rgb_array\") # evaluation environment\n",
        "\n",
        "    # Video dir\n",
        "    video_dir = \"./video\"+\"/\"+video_subdir\n",
        "\n",
        "    # Clear video dir\n",
        "    try:\n",
        "      rmtree(video_dir)\n",
        "    except:\n",
        "      pass\n",
        "\n",
        "    # Wrap in recorder\n",
        "    env = RecordVideo(env, video_dir+\"/train\", episode_trigger=lambda x: (x % evaluator_period) == 0)\n",
        "    eval_env = RecordVideo(eval_env, video_dir+\"/eval\", episode_trigger=lambda x: (x % evaluation_episodes) == 0)\n",
        "\n",
        "    # JAX random number generator\n",
        "    rng = hk.PRNGSequence(jax.random.PRNGKey(0))\n",
        "    env.seed(0) # seed environment for reproducability\n",
        "    random.seed(0)\n",
        "\n",
        "    episode_returns = [] # List to store history of episode returns.\n",
        "    evaluator_episode_returns = [] # List to store history of evaluator returns.\n",
        "    timesteps = 0\n",
        "    for episode in range(num_episodes):\n",
        "\n",
        "        # Reset environment.\n",
        "        obs = env.reset()\n",
        "        episode_return = 0\n",
        "        done = False\n",
        "\n",
        "        while not done:\n",
        "\n",
        "            # Agent select action.\n",
        "            action, agent_actor_state = agent_select_action_func(\n",
        "                                            next(rng),\n",
        "                                            agent_params,\n",
        "                                            agent_actor_state,\n",
        "                                            np.array(obs)\n",
        "                                        )\n",
        "\n",
        "            # Step environment.\n",
        "            next_obs, reward, done, _ = env.step(int(action))\n",
        "\n",
        "            # Pack into transition.\n",
        "            transition = Transition(obs, action, reward, next_obs, done)\n",
        "\n",
        "            # Add transition to memory.\n",
        "            if agent_memory: # check if agent has memory\n",
        "              agent_memory.push(transition)\n",
        "\n",
        "            # Add reward to episode return.\n",
        "            episode_return += reward\n",
        "\n",
        "            # Set obs to next obs before next environment step. CRITICAL!!!\n",
        "            obs = next_obs\n",
        "\n",
        "            # Increment timestep counter\n",
        "            timesteps += 1\n",
        "\n",
        "            # Maybe learn every timestep\n",
        "            if train_every_timestep and (timesteps % 4 == 0) and agent_memory and agent_memory.is_ready(): # Make sure memory is ready\n",
        "                # First sample memory and then pass the result to the learn function\n",
        "                memory = agent_memory.sample()\n",
        "                agent_params, agent_learner_state = agent_learn_func(\n",
        "                                                        next(rng),\n",
        "                                                        agent_params,\n",
        "                                                        agent_learner_state,\n",
        "                                                        memory\n",
        "                                                    )\n",
        "\n",
        "        episode_returns.append(episode_return)\n",
        "\n",
        "        # At the end of every episode we do a learn step.\n",
        "        if agent_memory and agent_memory.is_ready(): # Make sure memory is ready\n",
        "\n",
        "            for _ in range(learn_steps_per_episode):\n",
        "                # First sample memory and then pass the result to the learn function\n",
        "                memory = agent_memory.sample()\n",
        "                agent_params, agent_learner_state = agent_learn_func(\n",
        "                                                        next(rng),\n",
        "                                                        agent_params,\n",
        "                                                        agent_learner_state,\n",
        "                                                        memory\n",
        "                                                    )\n",
        "\n",
        "        if (episode % evaluator_period) == 0: # Do evaluation\n",
        "\n",
        "            evaluator_episode_return = 0\n",
        "            for eval_episode in range(evaluation_episodes):\n",
        "                obs = eval_env.reset()\n",
        "                done = False\n",
        "                while not done:\n",
        "                    action, _ = agent_select_action_func(\n",
        "                                    next(rng),\n",
        "                                    agent_params,\n",
        "                                    agent_actor_state,\n",
        "                                    np.array(obs),\n",
        "                                    evaluation=True\n",
        "                                )\n",
        "\n",
        "                    obs, reward, done, _ = eval_env.step(int(action))\n",
        "\n",
        "                    evaluator_episode_return += reward\n",
        "\n",
        "            evaluator_episode_return /= evaluation_episodes\n",
        "\n",
        "            evaluator_episode_returns.append(evaluator_episode_return)\n",
        "\n",
        "            logs = [\n",
        "                    f\"Episode: {episode}\",\n",
        "                    f\"Episode Return: {episode_return}\",\n",
        "                    f\"Average Episode Return: {np.mean(episode_returns[-20:])}\",\n",
        "                    f\"Evaluator Episode Return: {evaluator_episode_return}\"\n",
        "            ]\n",
        "\n",
        "            print(*logs, sep=\"\\t\") # Print the logs\n",
        "\n",
        "    env.close()\n",
        "    eval_env.close()\n",
        "\n",
        "    return episode_returns, evaluator_episode_returns"
      ]
    },
    {
      "cell_type": "markdown",
      "metadata": {
        "id": "CTPlIq4oDBPY"
      },
      "source": [
        "##2. Случайный поиск политики (RPS)\n",
        "В разделе 1 мы использовали фиксированный набор параметров для нашей политики. То есть мы не изучали параметры $\\pi$ $\\theta$, мы просто сохранили их фиксированными ( `params = [1,-2,2,-1]`).\n",
        "\n",
        "Теперь мы реализуем случайный поиск политики (RPS), который представляет собой алгоритм, который случайным образом пробует различные параметры политики и отслеживает лучшие параметры, найденные на данный момент. Мы скажем, что параметры политики $\\theta_A$ лучше параметров $\\theta_B$, если средний возврат эпизода, достигнутый за последние 20 эпизодов политикой с параметрами $\\theta_A$, больше, чем у политики с параметрами $\\theta_B$.\n",
        "\n",
        "Чтобы отслеживать «текущие» параметры, а также «лучшие» параметры, мы будем использовать [NamedTuple](https://www.geeksforgeeks.org/namedtuple-in-python/)."
      ]
    },
    {
      "cell_type": "code",
      "execution_count": 126,
      "metadata": {
        "colab": {
          "base_uri": "https://localhost:8080/"
        },
        "id": "1DcaC-PQRjM1",
        "outputId": "9d9e9c63-6d6a-4b61-863d-84c457e41235"
      },
      "outputs": [
        {
          "output_type": "stream",
          "name": "stdout",
          "text": [
            "Best params: [0. 0. 0. 0.]\n",
            "Current params: [-1. -1. -1. -1.]\n"
          ]
        }
      ],
      "source": [
        "# Parameter container for Random Policy Search\n",
        "RandomPolicySearchParams = collections.namedtuple(\"RandomPolicySearchParams\", [\"current\", \"best\"])\n",
        "\n",
        "# TEST: store two different sets of parameters\n",
        "current_params = np.ones(obs_shape) * -1\n",
        "best_params = np.zeros(obs_shape)\n",
        "rps_params = RandomPolicySearchParams(current_params, best_params)\n",
        "\n",
        "# How to access the best or current params.\n",
        "print(f\"Best params: {rps_params.best}\")\n",
        "print(f\"Current params: {rps_params.current}\")"
      ]
    },
    {
      "cell_type": "markdown",
      "metadata": {
        "id": "v91pDDzGex9a"
      },
      "source": [
        "Далее мы реализуем следующее:\n",
        "- **Функция выбора действия RPS** - определяет, как мы выбираем действия с учетом набора параметров.\n",
        "- **Модуль памяти RPS** - определяет, какой опыт хранить из взаимодействий со средой.\n",
        "- **Функция обучения RPS** - определяет, как мы обновляем и улучшаем параметры нашей политики."
      ]
    },
    {
      "cell_type": "markdown",
      "metadata": {
        "id": "0tExceGeGNYH"
      },
      "source": [
        "### Функция выбора действия RPS\n",
        "Давайте реализуем функцию с именем `random_policy_search_choose_action`, которую мы можем передать в цикл обучения. Функция должна принимать несколько аргументов, чтобы она могла хорошо взаимодействовать с нашим обобщенным циклом обучения, но вам нужно будет использовать только три из них - `params`, `obs` и `evaluation`.\n",
        "\n",
        "- `params` - это экземпляр `RandomPolicySearchParams` с \"current\" и \"best\".\n",
        "- `obs` - это последнее наблюдение из среды.\n",
        "- `evaluation` - это логическое значение, которое указывает, следует ли нам использовать параметры \"current\" или \"best\". Когда `evaluation==True`, мы должны использовать параметры \"best\", в противном случае мы должны использовать параметры \"current\".\n",
        "\n",
        "**Упражнение 3:** Реализуйте функцию `random_policy_search_choose_action`, как описано выше. Вам следует использовать метод `linear_policy`, который мы определили ранее. Вам также понадобится `jax.lax.select()` для условного возврата \"лучшего\" действия или \"текущего\" действия."
      ]
    },
    {
      "cell_type": "code",
      "execution_count": 127,
      "metadata": {
        "id": "1kmwT35JRjM1"
      },
      "outputs": [],
      "source": [
        "def random_policy_search_choose_action(\n",
        "    key,\n",
        "    params,\n",
        "    actor_state,\n",
        "    obs,\n",
        "    evaluation=False\n",
        "):\n",
        "  \"\"\"Random policy search select action method.\n",
        "\n",
        "  Args:\n",
        "    key: a random number (seed). Not used in this function.\n",
        "    params: the agent's parameters. In this case an instance of `RandomPolicySearchParams`\n",
        "    actor_state: some extra information about the actor. Not used in this function.\n",
        "    obs: the latest observation.\n",
        "    evaluation: a boolean indicating whether to use the best \"parameters\" or the \"current\" ones.\n",
        "\n",
        "  Returns:\n",
        "    The chosen action and the updated actor_state. In this function the actor_state is not updated.\n",
        "  \"\"\"\n",
        "\n",
        "  # YOUR CODE\n",
        "\n",
        "  best_action = linear_policy(params.best, obs)\n",
        "\n",
        "  current_action = linear_policy(params.current, obs)\n",
        "\n",
        "  action = jax.lax.select(\n",
        "      evaluation,\n",
        "      best_action,\n",
        "      current_action\n",
        "  )\n",
        "\n",
        "  # END YOUR CODE\n",
        "\n",
        "  return action, actor_state"
      ]
    },
    {
      "cell_type": "code",
      "execution_count": 128,
      "metadata": {
        "colab": {
          "base_uri": "https://localhost:8080/"
        },
        "id": "YE4xoAgyI3kG",
        "outputId": "95956fc8-d6ed-4752-8e00-c8068263adaf"
      },
      "outputs": [
        {
          "output_type": "stream",
          "name": "stdout",
          "text": [
            "Your function looks correct.\n"
          ]
        }
      ],
      "source": [
        "# @title Проверка упр 3 (run me) {display-mode: \"form\"}\n",
        "\n",
        "def check_random_policy_search_choose_action(choose_action):\n",
        "  key = None # not used\n",
        "  actor_state = None # not used\n",
        "\n",
        "  # obs\n",
        "  obs = np.ones(obs_shape)\n",
        "\n",
        "  evaluation=False\n",
        "  current_params = np.ones(obs_shape) * -1\n",
        "  best_params = np.ones(obs_shape)\n",
        "  rps_params = RandomPolicySearchParams(current_params, best_params)\n",
        "  action, actor_state = choose_action(key,rps_params,actor_state,obs,evaluation)\n",
        "  if action != 0:\n",
        "    return False\n",
        "\n",
        "  evaluation=True\n",
        "  current_params = np.ones(obs_shape) * -1\n",
        "  best_params = np.ones(obs_shape)\n",
        "  rps_params = RandomPolicySearchParams(current_params, best_params)\n",
        "  action, actor_state = choose_action(key,rps_params,actor_state,obs,evaluation)\n",
        "  if action != 1:\n",
        "    return False\n",
        "\n",
        "  return True\n",
        "\n",
        "try:\n",
        "  if check_random_policy_search_choose_action(random_policy_search_choose_action):\n",
        "    print(\"Your function looks correct.\")\n",
        "  else:\n",
        "    print(\"Your function looks incorrect.\")\n",
        "except Exception as e:\n",
        "    print(\"An Error Occured: {}\".format(e))"
      ]
    },
    {
      "cell_type": "markdown",
      "metadata": {
        "id": "6zu51ep7Sh0M"
      },
      "source": [
        "### Память агента RPS\n",
        "\n",
        "Для алгоритма поиска случайной политики нам нужно будет отслеживать средний возврат эпизода для последних 50 эпизодов. Помните, что мы сказали, что «текущие» параметры будут считаться «лучшими» параметрами, если средний возврат эпизода при использовании этих параметров больше предыдущего лучшего среднего возврата эпизода.\n",
        "\n",
        "Мы будем использовать интерфейс памяти общего назначения, который довольно прост. Модуль памяти должен иметь три метода. Первый — это функция `memory.push(<transition>)`, которая добавляет некоторую информацию о последнем переходе среды в память. Второй — это функция `memory.is_ready()`, которая проверяет, готова ли память к обучению. Наконец, функция `memory.sample()` должна возвращать последний набор воспоминаний, которые можно передать в `agent_learn_func`.\n",
        "\n",
        "#### Память среднего возврата эпизода\n",
        "Мы создали для вас простой модуль памяти агента. Он хранит `epsisode_returns` последних 20 эпизодов. Прочитайте нашу реализацию ниже и посмотрите, сможете ли вы ее понять. Метод `memory.sample()` возвращает средний возврат эпизода за последние 20 эпизодов."
      ]
    },
    {
      "cell_type": "code",
      "execution_count": 129,
      "metadata": {
        "id": "YVkTBIK5RjM1"
      },
      "outputs": [],
      "source": [
        "class AverageEpisodeReturnBuffer:\n",
        "\n",
        "    def __init__(self, num_episodes_to_store=50):\n",
        "        \"\"\"\n",
        "        This class implements an agent memory that stores the average episode\n",
        "        return over the last 50 episodes.\n",
        "        \"\"\"\n",
        "        self.num_episodes_to_store = num_episodes_to_store\n",
        "        self.episode_return_buffer = []\n",
        "        self.current_episode_return = 0\n",
        "\n",
        "    def push(self, transition):\n",
        "        self.current_episode_return += transition.reward\n",
        "\n",
        "        if transition.done: # If the episode is done\n",
        "            # Add episode return to buffer\n",
        "            self.episode_return_buffer.append(self.current_episode_return)\n",
        "\n",
        "            # Reset episode return\n",
        "            self.current_episode_return = 0\n",
        "\n",
        "\n",
        "    def is_ready(self):\n",
        "        return len(self.episode_return_buffer) == self.num_episodes_to_store\n",
        "\n",
        "    def sample(self):\n",
        "        average_episode_return = np.mean(self.episode_return_buffer)\n",
        "\n",
        "        # Clear episode return buffer\n",
        "        self.episode_return_buffer = []\n",
        "\n",
        "        return average_episode_return"
      ]
    },
    {
      "cell_type": "markdown",
      "metadata": {
        "id": "0oXBsSa2KjWE"
      },
      "source": [
        "### Функция обучения RPS\n",
        "Наконец, нам нужно реализовать функцию `random_policy_search_learn` для нашего алгоритма поиска случайной политики. Функция обучения довольно проста. Все, что нам нужно сделать, это проверить, лучше ли текущие параметры, чем лучшие параметры. Если они лучше, то установите лучшие параметры в качестве текущих параметров и случайным образом сгенерируйте новый набор текущих параметров.\n",
        "\n",
        "**Упражнение 4:** Напишите функцию для случайной генерации новых весов с использованием JAX. Веса должны быть выбраны из интервала `[-2,2]`.\n",
        "\n",
        "**Полезные функции:**\n",
        "*   `jax.random.uniform` ([docs](https://jax.readthedocs.io/en/latest/_autosummary/jax.random.uniform.html#jax.random.uniform))\n",
        "\n"
      ]
    },
    {
      "cell_type": "code",
      "execution_count": 130,
      "metadata": {
        "id": "8V2yFM2XMjGW"
      },
      "outputs": [],
      "source": [
        "def get_new_random_weights(random_key, old_weights, minval=-2.0, maxval=2.0):\n",
        "    new_weights_shape = old_weights.shape # you will need to use these values\n",
        "    new_weights_dtype = old_weights.dtype # you will need to use these values\n",
        "\n",
        "    # YOUR CODE\n",
        "\n",
        "    new_params = jax.random.uniform(random_key, new_weights_shape, minval=minval, maxval=maxval).astype(new_weights_dtype)\n",
        "\n",
        "    # END YOUR CODE\n",
        "\n",
        "    return new_params"
      ]
    },
    {
      "cell_type": "code",
      "execution_count": 131,
      "metadata": {
        "colab": {
          "base_uri": "https://localhost:8080/"
        },
        "id": "T8ifHTKGQlAd",
        "outputId": "b1da9e6d-cc77-467e-9ded-06599d99dbd9"
      },
      "outputs": [
        {
          "output_type": "stream",
          "name": "stdout",
          "text": [
            "Something is wrong.\n"
          ]
        }
      ],
      "source": [
        "# @title Проверка упр 4 (run me) {display-mode: \"form\"}\n",
        "\n",
        "def check_get_new_random_weights(get_new_random_weights):\n",
        "  old_weights = np.ones(obs_shape, \"float32\")\n",
        "  random_key = jax.random.PRNGKey(42)\n",
        "\n",
        "  # Case 1\n",
        "  new_weights = get_new_random_weights(random_key, old_weights, minval=-2.0, maxval=2.0)\n",
        "\n",
        "  if jnp.array_equal(new_weights, jnp.array([ 0.29657745,1.4265499, -1.7621555, -1.7505779 ])):\n",
        "    print(\"Function is correct!\")\n",
        "  else:\n",
        "    print(\"Something is wrong.\")\n",
        "\n",
        "try:\n",
        "  check_get_new_random_weights(get_new_random_weights)\n",
        "except Exception as e:\n",
        "    print(\"An Error Occured: {}\".format(e))"
      ]
    },
    {
      "cell_type": "markdown",
      "metadata": {
        "id": "2Djxc9j-LzkM"
      },
      "source": [
        "Наша функция обучения получает память в форме среднего возврата эпизода из `AverageEpisodeReturnMemory`, которую мы реализовали ранее. Мы можем использовать это для сравнения текущих параметров с лучшими параметрами. Но нам также нужно будет отслеживать лучший средний возврат эпизода для функции обучения. Для этого мы можем использовать аргумент `learn_state`, который передается в `agent_learn_func` в нашем цикле обучения. Как и в случае с `RandomPolicySearchParams`, мы будем использовать NamedTuple для хранения `best_average_episode_return` в `learn_state`."
      ]
    },
    {
      "cell_type": "code",
      "execution_count": 132,
      "metadata": {
        "colab": {
          "base_uri": "https://localhost:8080/"
        },
        "id": "4cSH4uYmRjM2",
        "outputId": "532e1895-36e5-4451-e5f8-ef01fe60d607"
      },
      "outputs": [
        {
          "output_type": "stream",
          "name": "stdout",
          "text": [
            "Initial best average episode return: -inf\n"
          ]
        }
      ],
      "source": [
        "# A NamedTuple to store the best average episode return so far\n",
        "RandomPolicyLearnState = collections.namedtuple(\n",
        "  \"RandomPolicyLearnState\",\n",
        "  [\"best_average_episode_return\"]\n",
        ")\n",
        "\n",
        "# Test\n",
        "initial_learn_state = RandomPolicyLearnState(best_average_episode_return=-float(\"inf\"))\n",
        "print(\"Initial best average episode return:\", initial_learn_state.best_average_episode_return)"
      ]
    },
    {
      "cell_type": "markdown",
      "metadata": {
        "id": "PxZXdP8bOu6b"
      },
      "source": [
        "Теперь у нас есть все необходимое для реализации функции `random_policy_search_learn`.\n",
        "\n",
        "**Упражнение 5:** Реализуйте функцию `random_policy_search_learn`. Функция должна проверять, лучше ли «текущие» параметры, чем «лучшие» параметры, сравнивая `current_average_episode_return` с `best_average_episode_return`. Функция также должна обновлять `learn_state`."
      ]
    },
    {
      "cell_type": "code",
      "execution_count": 133,
      "metadata": {
        "id": "Te_Q3qzmZcN_"
      },
      "outputs": [],
      "source": [
        "def random_policy_search_learn(key, params, learn_state, memory):\n",
        "    best_params = params.best\n",
        "    current_params = params.current\n",
        "\n",
        "    current_average_episode_return = memory # the memory contains the average episode return\n",
        "    best_average_episode_return = learn_state.best_average_episode_return\n",
        "\n",
        "\n",
        "    # YOUR CODE\n",
        "\n",
        "    best_params = jax.lax.select(\n",
        "        current_average_episode_return > best_average_episode_return,\n",
        "        current_params,\n",
        "        best_params\n",
        "    )\n",
        "\n",
        "    best_average_episode_return = jax.lax.select(\n",
        "        current_average_episode_return > best_average_episode_return,\n",
        "        current_average_episode_return,\n",
        "        best_average_episode_return\n",
        "    )\n",
        "\n",
        "    # END YOUR CODE\n",
        "\n",
        "    # Generate new random parameters\n",
        "    new_params = get_new_random_weights(key, current_params)\n",
        "\n",
        "    # Bundle weights in RandomPolicySearchParams NamedTuple\n",
        "    params = RandomPolicySearchParams(current=new_params, best=best_params)\n",
        "\n",
        "    return params, RandomPolicyLearnState(best_average_episode_return)"
      ]
    },
    {
      "cell_type": "code",
      "execution_count": 135,
      "metadata": {
        "colab": {
          "base_uri": "https://localhost:8080/"
        },
        "id": "CXHV4k2iBLBF",
        "outputId": "893095cc-a244-4b6f-e604-080357a065e8"
      },
      "outputs": [
        {
          "output_type": "stream",
          "name": "stdout",
          "text": [
            "Your function is incorrect.\n"
          ]
        }
      ],
      "source": [
        "#@title Проверка упр 5 {display-mode: \"form\"}\n",
        "\n",
        "params = RandomPolicySearchParams(np.ones(obs_shape, \"float32\"), np.ones(obs_shape, \"float32\") * -1)\n",
        "learn_state = RandomPolicyLearnState(10)\n",
        "memory = 11\n",
        "key = jax.random.PRNGKey(42)\n",
        "\n",
        "try:\n",
        "  new_params, new_learn_state = random_policy_search_learn(key, params, learn_state, memory)\n",
        "\n",
        "  if not jnp.array_equal(new_params.current, jnp.array([ 0.29657745,  1.4265499 , -1.7621555 , -1.7505779 ])):\n",
        "    print(\"Your function is incorrect.\")\n",
        "\n",
        "  elif not jnp.array_equal(new_params.best, jnp.array([1., 1., 1., 1.])):\n",
        "    print(\"Your function is incorrect.\")\n",
        "\n",
        "  elif new_learn_state.best_average_episode_return != 11:\n",
        "    print(\"Your function is incorrect.\")\n",
        "\n",
        "  else:\n",
        "    print(\"Your function looks correct.\")\n",
        "except Exception as e:\n",
        "    print(\"An Error Occured: {}\".format(e))"
      ]
    },
    {
      "cell_type": "markdown",
      "metadata": {
        "id": "5Ol_AxnMBdgP"
      },
      "source": [
        "### Цикл обучения RPS\n",
        "Теперь мы можем собрать все вместе, передав модуль `memory`, функцию `learn` и функцию `choose_action` в цикл обучения. Чтобы ускорить наш алгоритм, мы будем использовать `jax.jit` в функции `learn` и функции `choose_action`."
      ]
    },
    {
      "cell_type": "code",
      "execution_count": 136,
      "metadata": {
        "colab": {
          "base_uri": "https://localhost:8080/",
          "height": 680
        },
        "id": "Qx57tf7vRjM3",
        "outputId": "6c92c013-ca83-4f6a-915f-6481d5a61380"
      },
      "outputs": [
        {
          "output_type": "stream",
          "name": "stdout",
          "text": [
            "Starting training. This may take up to 5 minutes to complete.\n",
            "Episode: 0\tEpisode Return: 80.0\tAverage Episode Return: 80.0\tEvaluator Episode Return: 125.625\n",
            "Episode: 100\tEpisode Return: 11.0\tAverage Episode Return: 9.55\tEvaluator Episode Return: 141.625\n",
            "Episode: 200\tEpisode Return: 9.0\tAverage Episode Return: 8.75\tEvaluator Episode Return: 148.125\n",
            "Episode: 300\tEpisode Return: 10.0\tAverage Episode Return: 83.1\tEvaluator Episode Return: 142.0\n",
            "Episode: 400\tEpisode Return: 34.0\tAverage Episode Return: 10.25\tEvaluator Episode Return: 129.625\n",
            "Episode: 500\tEpisode Return: 10.0\tAverage Episode Return: 9.4\tEvaluator Episode Return: 127.75\n",
            "Episode: 600\tEpisode Return: 150.0\tAverage Episode Return: 16.8\tEvaluator Episode Return: 133.75\n",
            "Episode: 700\tEpisode Return: 10.0\tAverage Episode Return: 9.15\tEvaluator Episode Return: 153.5\n",
            "Episode: 800\tEpisode Return: 68.0\tAverage Episode Return: 167.65\tEvaluator Episode Return: 153.75\n",
            "Episode: 900\tEpisode Return: 161.0\tAverage Episode Return: 17.1\tEvaluator Episode Return: 170.625\n",
            "Episode: 1000\tEpisode Return: 200.0\tAverage Episode Return: 47.6\tEvaluator Episode Return: 167.0\n"
          ]
        },
        {
          "output_type": "display_data",
          "data": {
            "text/plain": [
              "<Figure size 640x480 with 1 Axes>"
            ],
            "image/png": "[encoded data removed]"
          },
          "metadata": {}
        }
      ],
      "source": [
        "# JIT the learn and choose action functions\n",
        "random_policy_search_learn_jit = jax.jit(random_policy_search_learn)\n",
        "random_policy_search_choose_action_jit = jax.jit(random_policy_search_choose_action)\n",
        "\n",
        "# Initialise the parameters\n",
        "initial_weights = np.ones(obs_shape, \"float32\")\n",
        "initial_params = RandomPolicySearchParams(initial_weights, initial_weights)\n",
        "\n",
        "# Initialise the learn state\n",
        "initial_learn_state = RandomPolicyLearnState(best_average_episode_return=-float(\"inf\"))\n",
        "\n",
        "# Initialise memory\n",
        "memory = AverageEpisodeReturnBuffer(num_episodes_to_store=50)\n",
        "\n",
        "# Run the training loop\n",
        "print(\"Starting training. This may take up to 5 minutes to complete.\")\n",
        "chex.clear_trace_counter()\n",
        "episode_return, evaluator_episode_returns = run_training_loop(\n",
        "                                        env_name,\n",
        "                                        initial_params,\n",
        "                                        random_policy_search_choose_action_jit,\n",
        "                                        None, # no actor state\n",
        "                                        random_policy_search_learn_jit,\n",
        "                                        initial_learn_state,\n",
        "                                        memory,\n",
        "                                        num_episodes=1001,\n",
        "                                        video_subdir=\"rps\"\n",
        "                                    )\n",
        "\n",
        "# Plot graph of evaluator episode returns\n",
        "plt.plot(np.linspace(0, 1000, len(evaluator_episode_returns)), evaluator_episode_returns)\n",
        "plt.title(\"Random Policy Search\")\n",
        "plt.xlabel(\"Episodes\")\n",
        "plt.ylabel(\"Episode Return\")\n",
        "plt.show()"
      ]
    },
    {
      "cell_type": "markdown",
      "metadata": {
        "id": "TG10FG6uS05A"
      },
      "source": [
        "Надеюсь, вы нашли набор оптимальных параметров на CartPole (возврат эпизода достигает `200`). В ячейке ниже вы можете посмотреть несколько видеороликов агента, выполняющего задание."
      ]
    },
    {
      "cell_type": "code",
      "execution_count": 137,
      "metadata": {
        "id": "KgayDJ7KWC4C",
        "colab": {
          "base_uri": "https://localhost:8080/",
          "height": 288
        },
        "outputId": "152bf0b2-dfcd-4385-c55e-e4379e50356a"
      },
      "outputs": [
        {
          "output_type": "execute_result",
          "data": {
            "text/plain": [
              "<IPython.core.display.HTML object>"
            ],
            "text/html": [
              "\n",
              "<video width=400 controls>\n",
              "      <source src=\"data:video/mp4;base64,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\" type=\"video/mp4\">\n",
              "</video>\n"
            ]
          },
          "metadata": {},
          "execution_count": 137
        }
      ],
      "source": [
        "#@title Visualise Policy {display-mode: \"form\"}\n",
        "#@markdown Choose an episode number that is a multiple of 100 and less than or equal to 2000, and **run** this cell.\n",
        "episode_number = 1000 #@param {type:\"number\"}\n",
        "\n",
        "assert (episode_number % 100) == 0, \"Episode number must be a multiple of 100 since we only record every 100th episode.\"\n",
        "assert episode_number < 1001, \"Episode number must be less than or equal to 2000\"\n",
        "\n",
        "eval_episode_number = int(episode_number / 100 * 8)\n",
        "video_path = f\"./video/rps/eval/rl-video-episode-{eval_episode_number}.mp4\"\n",
        "\n",
        "mp4 = open(video_path,'rb').read()\n",
        "data_url = \"data:video/mp4;base64,\" + b64encode(mp4).decode()\n",
        "HTML(\"\"\"\n",
        "<video width=400 controls>\n",
        "      <source src=\"%s\" type=\"video/mp4\">\n",
        "</video>\n",
        "\"\"\" % data_url)"
      ]
    },
    {
      "cell_type": "markdown",
      "metadata": {
        "id": "Xwf1IKKbrrVn"
      },
      "source": [
        "Итак, случайный поиск политики справился с этой задачей довольно хорошо. Однако здесь происходит очень мало (если вообще происходит) реального *обучения*. Далее давайте рассмотрим реализацию простого алгоритма RL, который может использовать свой опыт для руководства нашим поиском оптимальной политики, а не просто искать ее случайным образом."
      ]
    },
    {
      "cell_type": "markdown",
      "metadata": {
        "id": "XEnSjZVESrxc"
      },
      "source": [
        "## 3. Градиенты политики  (Policy Gradients, PG)\n",
        "Как обсуждалось, цель RL — найти политику, которая максимизирует ожидаемое совокупное вознаграждение (возврат), которое агент получает от среды. Мы можем записать ожидаемый возврат политики как:\n",
        "\n",
        "$J(\\pi_\\theta)=\\mathrm{E}_{\\tau\\sim\\pi_\\theta}\\ [R(\\tau)]$,\n",
        "\n",
        "где $\\pi_\\theta$ — это политика, параметризованная $\\theta$, $\\mathrm{E}$ означает *ожидание*, $\\tau$ — это сокращение для \"*эпизод*\", $\\tau\\sim\\pi_\\theta$ — это сокращение для \"*эпизоды, выбранные с использованием политики* $\\pi_\\theta$\", а $R(\\tau)$ — это возврат эпизода $\\tau$.\n",
        "\n",
        "Затем, цель в RL — найти параметры $\\theta$, которые максимизируют функцию $J(\\pi_\\theta)$. Один из способов найти эти параметры — выполнить градиентный подъем по $J(\\pi_\\theta)$ относительно параметров $\\theta$:\n",
        "\n",
        "$\\theta_{k+1}=\\theta_k + \\alpha \\nabla J(\\pi_\\theta)|_{\\theta_{k}}$,\n",
        "\n",
        "где $\\nabla J(\\pi_\\theta)|_{\\theta_{k}}$ — градиент ожидаемой доходности относительно параметров политики $\\theta_k$, а $\\alpha$ — размер шага. Эта величина, $\\nabla J(\\pi_\\theta)$, также называется **градиентом политики** и очень важна в RL. Если мы сможем вычислить градиент политики, то у нас будет средство, с помощью которого можно напрямую оптимизировать нашу политику.\n",
        "\n",
        "Как оказалось, у нас есть способ вычислить градиент политики, и математический вывод можно найти [здесь](https://spinningup.openai.com/en/latest/spinningup/rl_intro3.html). Но для этого руководства мы опустим вывод и просто дадим вам результат:\n",
        "\n",
        "$\\nabla_{\\theta} J(\\pi_{\\theta})=\\underset{\\tau \\sim \\pi_{\\theta}}{\\mathrm{E}}[\\sum_{t=0}^{T} \\nabla_{\\theta} \\log \\pi_{\\theta}(a_{t} \\mid s_{t}) R(\\tau)]$\n",
        "\n",
        "Неформально, градиент политики равен градиенту логарифма вероятности выбранного действия, умноженного на возврат эпизода, в котором было предпринято действие.\n"
      ]
    },
    {
      "cell_type": "markdown",
      "metadata": {
        "id": "BTnTzgtSuy-y"
      },
      "source": [
        "### REINFORCE\n",
        "REINFORCE — это простой алгоритм RL, который использует градиент политики для поиска оптимальной политики путем увеличения вероятности выбора действий (усиливающих действий), которые, как правило, приводят к эпизодам с высокой отдачей.\n",
        "\n",
        "**Упражнение 6:** Реализуйте функцию, которая берет вероятность действия и отдачу эпизода, в котором действие было предпринято, и вычисляет логарифм вероятности, умноженный на отдачу. Убедитесь, что вы используете JAX.\n",
        "\n",
        "**Полезные функции:**\n",
        "*   `jax.numpy.log`([docs](https://jax.readthedocs.io/en/latest/_autosummary/jax.numpy.log.html))"
      ]
    },
    {
      "cell_type": "code",
      "execution_count": 138,
      "metadata": {
        "id": "bJObUsoUrOyV"
      },
      "outputs": [],
      "source": [
        "def compute_weighted_log_prob(action_prob, episode_return):\n",
        "\n",
        "    # YOUR CODE\n",
        "\n",
        "    log_prob = jnp.log(action_prob)\n",
        "\n",
        "    weighted_log_prob = log_prob * episode_return\n",
        "\n",
        "    # END YOUR CODE\n",
        "\n",
        "    return weighted_log_prob"
      ]
    },
    {
      "cell_type": "code",
      "execution_count": 139,
      "metadata": {
        "id": "eZPoTwa1Gbm1",
        "colab": {
          "base_uri": "https://localhost:8080/"
        },
        "outputId": "f25772c5-b9c2-4e4a-e50e-b1e73d4c008b"
      },
      "outputs": [
        {
          "output_type": "stream",
          "name": "stdout",
          "text": [
            "Looks correct.\n"
          ]
        }
      ],
      "source": [
        "#@title Проверка упр 6 {display-mode: \"form\"}\n",
        "\n",
        "try:\n",
        "  action_prob = 0.8\n",
        "  episode_return = 100\n",
        "  result = compute_weighted_log_prob(action_prob, episode_return)\n",
        "  if result != -22.314354:\n",
        "    print(\"Your implementation looks incorrect.\")\n",
        "  else:\n",
        "    print(\"Looks correct.\")\n",
        "except Exception as e:\n",
        "    print(\"An Error Occured: {}\".format(e))"
      ]
    },
    {
      "cell_type": "markdown",
      "metadata": {
        "id": "NmgW9UJ3tIpl"
      },
      "source": [
        "### Rewards-to-go\n",
        "Выполнение градиентного подъема по градиенту логарифма вероятности действия, взвешенного по возврату эпизода, будет иметь тенденцию повышать вероятность действий, которые были в эпизодах с высоким возвратом, независимо от того, *где* в эпизоде ​​было выполнено действие. Это на самом деле не имеет большого смысла, потому что действие ближе к концу эпизода может быть подкреплено, потому что много вознаграждения было собрано ранее в эпизоде, *до* того, как было выполнено действие. Агенты RL должны на самом деле подкреплять действия только на основе их *последствий*. Вознаграждения, полученные до выполнения действия, не влияют на то, насколько хорошим было это действие: только вознаграждения, которые приходят после. Накопленные вознаграждения, полученные после выполнения действия, называются **вознаграждениями-к-переходу** и могут быть вычислены как:\n",
        "\n",
        "$\\hat{R}_i=\\sum_{t=i}^Tr_t$\n",
        "\n",
        "Сравните это с доходностью эпизода:\n",
        "\n",
        "$R(\\tau)=\\sum_{t=0}^Tr_t$\n",
        "\n",
        "Мы можем повысить надежность градиента политики, заменив доходность эпизода на вознаграждения-к-переходу. Градиент политики с оставшимися наградами задается следующим образом:\n",
        "\n",
        "$\\nabla_{\\theta} J(\\pi_{\\theta})=\\underset{\\tau \\sim \\pi_{\\theta}}{\\mathrm{E}}[\\sum_{t=0}^{T} \\nabla_{\\theta} \\log \\pi_{\\theta}(a_{t} \\mid s_{t}) \\hat{R}_t]$\n",
        "\n",
        "**Упражнение 7:** Реализуйте функцию, которая берет список всех наград, полученных в эпизоде, и вычисляет оставшиеся награды. Не беспокойтесь об использовании JAX в этой функции. Вы можете использовать обычные операции Python, такие как `for-loops`."
      ]
    },
    {
      "cell_type": "code",
      "execution_count": 140,
      "metadata": {
        "id": "nV1Hww8E3dUJ"
      },
      "outputs": [],
      "source": [
        "def compute_rewards_to_go(rewards):\n",
        "    \"\"\"\n",
        "    This function should take a list of rewards as input and\n",
        "    compute the rewards-to-go for each timestep.\n",
        "\n",
        "    EXAMPLE: compute_rewards_to_go([1,2,3,4]) = [10, 9, 7, 4]\n",
        "\n",
        "    Arguments:\n",
        "        rewards[t] is the reward at time step t.\n",
        "\n",
        "    Returns:\n",
        "        rewards_to_go[t] should be the reward-to-go at timestep t.\n",
        "    \"\"\"\n",
        "\n",
        "    rewards_to_go = []\n",
        "\n",
        "    # YOUR CODE\n",
        "    total_reward = 0\n",
        "    for reward in reversed(rewards):\n",
        "      total_reward += reward\n",
        "      rewards_to_go.insert(0, total_reward)\n",
        "\n",
        "    # END YOUR CODE\n",
        "\n",
        "    return rewards_to_go"
      ]
    },
    {
      "cell_type": "code",
      "execution_count": 141,
      "metadata": {
        "id": "hLVaVRp28YGI",
        "colab": {
          "base_uri": "https://localhost:8080/"
        },
        "outputId": "8b0d723e-4acb-476c-b9c3-278bdd2a00ca"
      },
      "outputs": [
        {
          "output_type": "stream",
          "name": "stdout",
          "text": [
            "Looks correct.\n"
          ]
        }
      ],
      "source": [
        "#@title Проверка упр 7 {display-mode: \"form\"}\n",
        "\n",
        "try:\n",
        "  result = compute_rewards_to_go([1,2,3,4])\n",
        "\n",
        "  if result != [10, 9, 7, 4]:\n",
        "    print(\"There is a problem with your implementation.\")\n",
        "  else:\n",
        "    print(\"Looks correct.\")\n",
        "except Exception as e:\n",
        "    print(\"An Error Occured: {}\".format(e))\n"
      ]
    },
    {
      "cell_type": "markdown",
      "metadata": {
        "id": "IboxN9MS65i5"
      },
      "source": [
        "### REINFORCE memory\n",
        "Далее нам нужно будет создать новую память агента для хранения вознаграждений $\\hat{R}_t$ вместе с наблюдением $o_t$ и действием $a_t$ на каждом временном шаге. Ниже мы реализовали такой модуль памяти для вас. Функция `memory.sample()` вернет пакет из последних 500 воспоминаний. Вы можете прочитать код, чтобы попытаться понять его, но это не обязательно. Поэтому мы скрываем код по умолчанию."
      ]
    },
    {
      "cell_type": "code",
      "execution_count": 142,
      "metadata": {
        "id": "xhS4V6auRjM3"
      },
      "outputs": [],
      "source": [
        "# @title Реализация памяти (run me) {display-mode: \"form\"}\n",
        "\n",
        "# NamedTuple to store memory\n",
        "EpisodeRewardsToGoMemory = collections.namedtuple(\"EpisodeRewardsToGoMemory\", [\"obs\", \"action\", \"reward_to_go\"])\n",
        "\n",
        "class EpisodeRewardsToGoBuffer:\n",
        "\n",
        "    def __init__(self, num_transitions_to_store=512, batch_size=256):\n",
        "        self.batch_size = batch_size\n",
        "        self.memory_buffer = collections.deque(maxlen=num_transitions_to_store)\n",
        "        self.current_episode_transition_buffer = []\n",
        "\n",
        "    def push(self, transition):\n",
        "        self.current_episode_transition_buffer.append(transition)\n",
        "\n",
        "        if transition.done:\n",
        "\n",
        "            episode_rewards = []\n",
        "            for t in self.current_episode_transition_buffer:\n",
        "                episode_rewards.append(t.reward)\n",
        "\n",
        "            r2g = compute_rewards_to_go(episode_rewards)\n",
        "\n",
        "            for i, t in enumerate(self.current_episode_transition_buffer):\n",
        "                memory = EpisodeRewardsToGoMemory(t.obs, t.action, r2g[i])\n",
        "                self.memory_buffer.append(memory)\n",
        "\n",
        "            # Reset episode buffer\n",
        "            self.current_episode_transition_buffer = []\n",
        "\n",
        "\n",
        "    def is_ready(self):\n",
        "        return len(self.memory_buffer) >= self.batch_size\n",
        "\n",
        "    def sample(self):\n",
        "        random_memory_sample = random.sample(self.memory_buffer, self.batch_size)\n",
        "\n",
        "        obs_batch, action_batch, reward_to_go_batch = zip(*random_memory_sample)\n",
        "\n",
        "        return EpisodeRewardsToGoMemory(\n",
        "            np.stack(obs_batch).astype(\"float32\"),\n",
        "            np.asarray(action_batch).astype(\"int32\"),\n",
        "            np.asarray(reward_to_go_batch).astype(\"int32\")\n",
        "        )\n",
        "\n",
        "\n",
        "# Instantiate Memory\n",
        "REINFORCE_memory = EpisodeRewardsToGoBuffer(num_transitions_to_store=512, batch_size=256)"
      ]
    },
    {
      "cell_type": "markdown",
      "metadata": {
        "id": "Idkav_aSYXvz"
      },
      "source": [
        "### Policy neural network\n",
        "Далее мы будем использовать простую нейронную сеть для аппроксимации политики. Наша нейронная сеть политики будет иметь входной слой, который принимает наблюдение в качестве входных данных и пропускает его через два скрытых слоя, а затем выводит одно скалярное значение для каждого из возможных действий. Таким образом, в CartPole выходной слой будет иметь размер `2`.\n",
        "\n",
        "[Haiku](https://github.com/deepmind/dm-haiku) — это библиотека для реализации нейронных сетей в JAX. Ниже мы реализовали простую функцию для создания сети политики для вас.\n"
      ]
    },
    {
      "cell_type": "code",
      "execution_count": 143,
      "metadata": {
        "id": "j2XO7VkORjM4"
      },
      "outputs": [],
      "source": [
        "def make_policy_network(num_actions: int, layers=[20, 20]) -> hk.Transformed:\n",
        "  \"\"\"Factory for a simple MLP network for the policy.\"\"\"\n",
        "\n",
        "  def policy_network(obs):\n",
        "    network = hk.Sequential(\n",
        "        [\n",
        "            hk.Flatten(),\n",
        "            hk.nets.MLP(layers + [num_actions])\n",
        "        ]\n",
        "    )\n",
        "    return network(obs)\n",
        "\n",
        "  return hk.without_apply_rng(hk.transform(policy_network))"
      ]
    },
    {
      "cell_type": "markdown",
      "metadata": {
        "id": "1GR2y8FjaG-G"
      },
      "source": [
        "У сетей Haiku есть две важные функции, о которых вам нужно знать. Первая — `network.init(<random_key>, <input>)`, которая возвращает набор случайных начальных параметров. Второй метод — `network.apply(<params>, <input>)`, который передает входные данные через сеть, используя предоставленный набор параметров."
      ]
    },
    {
      "cell_type": "code",
      "execution_count": 144,
      "metadata": {
        "id": "fJrn9o-Vatkw",
        "colab": {
          "base_uri": "https://localhost:8080/"
        },
        "outputId": "95c20460-ebe4-4d71-f358-521d4aa01c32"
      },
      "outputs": [
        {
          "output_type": "stream",
          "name": "stdout",
          "text": [
            "Initial params: dict_keys(['mlp/~/linear_0', 'mlp/~/linear_1', 'mlp/~/linear_2'])\n",
            "Policy network output: [0.29175332 0.04247754]\n"
          ]
        }
      ],
      "source": [
        "# Example\n",
        "POLICY_NETWORK = make_policy_network(num_actions=num_actions, layers=[20,20])\n",
        "random_key = jax.random.PRNGKey(42) # random key\n",
        "dummy_obs = np.ones(obs_shape, \"float32\")\n",
        "\n",
        "# Initialise parameters\n",
        "REINFORCE_params = POLICY_NETWORK.init(random_key, dummy_obs)\n",
        "print(\"Initial params:\", REINFORCE_params.keys())\n",
        "\n",
        "# Pass input through the network\n",
        "output = POLICY_NETWORK.apply(REINFORCE_params, dummy_obs)\n",
        "print(\"Policy network output:\", output)\n"
      ]
    },
    {
      "cell_type": "markdown",
      "metadata": {
        "id": "MlouUBvoeunz"
      },
      "source": [
        "Выходы нашей сети политик — [логиты](https://qr.ae/pv4YTe). Чтобы преобразовать это в распределение вероятностей по действиям, мы передаем логиты в функцию [softmax](https://en.wikipedia.org/wiki/Softmax_function).\n",
        "\n",
        "### УСИЛЕНИЕ выбор функции действия\n",
        "\n",
        "**Упражнение 8:** Завершите функцию ниже, которая берет вектор логитов и случайным образом выбирает действие из категориального распределения, заданного логитами.\n",
        "\n",
        "**Полезные функции:**"
      ]
    },
    {
      "cell_type": "code",
      "execution_count": 145,
      "metadata": {
        "id": "m3Z8DxUmeOGJ"
      },
      "outputs": [],
      "source": [
        "def sample_action(random_key, logits):\n",
        "\n",
        "  # YOUR CODE HERE\n",
        "  action = jax.random.categorical(random_key, logits)\n",
        "\n",
        "  # END YOUR code\n",
        "\n",
        "  return action"
      ]
    },
    {
      "cell_type": "code",
      "execution_count": 146,
      "metadata": {
        "id": "5opHJMO0D_Ub",
        "colab": {
          "base_uri": "https://localhost:8080/"
        },
        "outputId": "4ed5859c-6a7e-47dc-d65d-e49e33521f88"
      },
      "outputs": [
        {
          "output_type": "stream",
          "name": "stdout",
          "text": [
            "Seems correct.\n"
          ]
        }
      ],
      "source": [
        "#@title Проверка упр 8 {display-mode: \"form\"}\n",
        "\n",
        "try:\n",
        "  random_key = jax.random.PRNGKey(42) # random key\n",
        "  action = sample_action(random_key, np.array([1,2], \"float32\"))\n",
        "  if action != 1:\n",
        "    print(\"Your function is incorrect.\")\n",
        "  else:\n",
        "    print(\"Seems correct.\")\n",
        "except Exception as e:\n",
        "    print(\"An Error Occured: {}\".format(e))"
      ]
    },
    {
      "cell_type": "markdown",
      "metadata": {
        "id": "jP5UH87VRjM4"
      },
      "source": [
        "Теперь мы можем реализовать функцию `REINFORCE_choose_action`. Мы передадим наблюдение через сеть политики для вычисления логитов, а затем передадим логиты в функцию `sample_action` для выбора и действия."
      ]
    },
    {
      "cell_type": "code",
      "execution_count": 147,
      "metadata": {
        "id": "UJTzrDAZ0Ul5"
      },
      "outputs": [],
      "source": [
        "def REINFORCE_choose_action(key, params, actor_state, obs, evaluation=False):\n",
        "  obs = jnp.expand_dims(obs, axis=0) # add dummy batch dim before passing through network\n",
        "\n",
        "  # Pass obs through policy network to compute logits\n",
        "  logits = POLICY_NETWORK.apply(params, obs)\n",
        "  logits = logits[0] # remove batch dim\n",
        "\n",
        "  # Randomly sample action\n",
        "  sampled_action = sample_action(key, logits)\n",
        "\n",
        "  return sampled_action, actor_state"
      ]
    },
    {
      "cell_type": "markdown",
      "metadata": {
        "id": "NI26SLAb7iRo"
      },
      "source": [
        "Теперь, когда мы реализовали функцию `REINFORCE_choose_action`, нам осталось только создать функцию `REINFORCE_learn`. Функция обучения должна использовать функцию `weighted_log_prob`, которую мы создали ранее, чтобы вычислить потери градиента политики и применить обновления градиента к нашей нейронной сети."
      ]
    },
    {
      "cell_type": "markdown",
      "metadata": {
        "id": "36ALCJESQJ8e"
      },
      "source": [
        "### Policy gradient loss\n",
        "\n",
        "\n",
        "**Упражнение 9:** Завершите функцию `policy_gradient_loss` ниже. Функция должна вычислять вероятности действий, пропуская `logits` через функцию softmax. Затем следует извлечь вероятность заданного `action` (используя индексацию массива) и вычислить `weighted_log_prob`, используя функцию, которую мы создали ранее.\n",
        "\n",
        "**Полезные методы:**\n",
        "*   `jax.nn.softmax` ([docs](https://jax.readthedocs.io/en/latest/_autosummary/jax.nn.softmax.html))"
      ]
    },
    {
      "cell_type": "code",
      "execution_count": 148,
      "metadata": {
        "id": "9sUKkqx0RjM4"
      },
      "outputs": [],
      "source": [
        "import jax.nn\n",
        "def policy_gradient_loss(action, logits, reward_to_go):\n",
        "\n",
        "    all_action_probs = jax.nn.softmax(logits)\n",
        "    print(\"all_action_probs:\", all_action_probs)\n",
        "\n",
        "    action_prob = all_action_probs[action]\n",
        "    print(\"action_prob:\", action_prob)\n",
        "\n",
        "    weighted_log_prob = compute_weighted_log_prob(action_prob, reward_to_go)\n",
        "    print(\"weighted_log_prob:\", weighted_log_prob)\n",
        "\n",
        "    loss = -weighted_log_prob\n",
        "\n",
        "    return loss"
      ]
    },
    {
      "cell_type": "code",
      "execution_count": 149,
      "metadata": {
        "id": "7AMJvau1FsM5",
        "colab": {
          "base_uri": "https://localhost:8080/"
        },
        "outputId": "172d6879-8e9b-469c-84c3-16063ae38733"
      },
      "outputs": [
        {
          "output_type": "stream",
          "name": "stdout",
          "text": [
            "all_action_probs: [0.26894143 0.7310586 ]\n",
            "action_prob: 0.7310586\n",
            "weighted_log_prob: -3.1326165\n",
            "Your implementation looks wrong.\n"
          ]
        }
      ],
      "source": [
        "#@title Проверка упр 9 {display-mode: \"form\"}\n",
        "\n",
        "try:\n",
        "  result = policy_gradient_loss(1, np.array([1,2], \"float32\"), 10)\n",
        "  if result != 3.1326175:\n",
        "    print(\"Your implementation looks wrong.\")\n",
        "  else:\n",
        "    print(\"Looks correct.\")\n",
        "except Exception as e:\n",
        "  print(\"An Error Occured: {}\".format(e))\n"
      ]
    },
    {
      "cell_type": "markdown",
      "metadata": {
        "id": "Gzuqx1jJrwVx"
      },
      "source": [
        "Когда мы делаем шаг обновления градиента политики, мы захотим сделать это, используя пакет опыта, а не просто один опыт, как выше. Мы можем использовать функцию JAX [vmap](https://jax.readthedocs.io/en/latest/_autosummary/jax.vmap.html#jax.vmap), чтобы легко заставить нашу функцию `policy_gradient_loss` работать с пакетом опыта."
      ]
    },
    {
      "cell_type": "code",
      "execution_count": 150,
      "metadata": {
        "id": "3yq4naLURjM4",
        "colab": {
          "base_uri": "https://localhost:8080/"
        },
        "outputId": "d71808d7-273b-408a-b46a-b9212ee8abd4"
      },
      "outputs": [
        {
          "output_type": "stream",
          "name": "stdout",
          "text": [
            "all_action_probs: Traced<ShapedArray(float32[2])>with<BatchTrace> with\n",
            "  val = Array([[0.56199825, 0.43800175],\n",
            "       [0.56199825, 0.43800175],\n",
            "       [0.56199825, 0.43800175]], dtype=float32)\n",
            "  batch_dim = 0\n",
            "action_prob: Traced<ShapedArray(float32[])>with<BatchTrace> with\n",
            "  val = Array([0.43800175, 0.56199825, 0.56199825], dtype=float32)\n",
            "  batch_dim = 0\n",
            "weighted_log_prob: Traced<ShapedArray(float32[])>with<BatchTrace> with\n",
            "  val = Array([-1.8987244, -2.4779034, -1.2101388], dtype=float32)\n",
            "  batch_dim = 0\n",
            "Policy gradient loss on batch: 1.8622556\n"
          ]
        }
      ],
      "source": [
        "def batched_policy_gradient_loss(params, obs_batch, action_batch, reward_to_go_batch):\n",
        "    # Get logits by passing observation through network\n",
        "    logits_batch = POLICY_NETWORK.apply(params, obs_batch)\n",
        "\n",
        "    policy_gradient_loss_batch = jax.vmap(policy_gradient_loss)(\n",
        "        action_batch,\n",
        "        logits_batch,\n",
        "        reward_to_go_batch) # add batch\n",
        "\n",
        "    # Compute mean loss over batch\n",
        "    mean_policy_gradient_loss = jnp.mean(policy_gradient_loss_batch)\n",
        "\n",
        "    return mean_policy_gradient_loss\n",
        "\n",
        "# TEST\n",
        "obs_batch = np.ones((3, *obs_shape), \"float32\")\n",
        "actions_batch = np.array([1,0,0])\n",
        "rew2go_batch = np.array([2.3, 4.3, 2.1])\n",
        "\n",
        "loss = batched_policy_gradient_loss(REINFORCE_params, obs_batch, actions_batch, rew2go_batch)\n",
        "\n",
        "print(\"Policy gradient loss on batch:\", loss)"
      ]
    },
    {
      "cell_type": "markdown",
      "metadata": {
        "id": "VDhTH3culwqo"
      },
      "source": [
        "### Оптимизатор сети\n",
        "\n",
        "Чтобы применить обновления градиента политики к нашей нейронной сети, мы будем использовать библиотеку JAX под названием [Optax](https://github.com/deepmind/optax). Optax имеет реализацию [оптимизатора Adam](https://www.geeksforgeeks.org/intuition-of-adam-optimizer/), которую мы можем использовать."
      ]
    },
    {
      "cell_type": "code",
      "execution_count": 151,
      "metadata": {
        "id": "pxXINlMHP5Ic"
      },
      "outputs": [],
      "source": [
        "REINFORCE_OPTIMIZER = optax.adam(1e-3)\n",
        "\n",
        "# Initialise the optimiser\n",
        "REINFORCE_optim_state = REINFORCE_OPTIMIZER.init(REINFORCE_params)"
      ]
    },
    {
      "cell_type": "markdown",
      "metadata": {
        "id": "ViENrHOALbCw"
      },
      "source": [
        "Теперь у нас есть все необходимое для создания функции `REINFORCE_learn`. Мы сохраним состояние оптимизатора в `learn_state`. Мы вычислим градиент потерь градиента политики с помощью  `jax.grad` ([docs](https://jax.readthedocs.io/en/latest/_autosummary/jax.grad.html))."
      ]
    },
    {
      "cell_type": "code",
      "execution_count": 152,
      "metadata": {
        "id": "CQr2Uz5ORjM5"
      },
      "outputs": [],
      "source": [
        "# A NamedTuple to store the state of the optimiser\n",
        "REINFORCELearnState = collections.namedtuple(\"LearnerState\", [\"optim_state\"])\n",
        "\n",
        "\n",
        "def REINFORCE_learn(key, params, learner_state, memory):\n",
        "\n",
        "  # Get the policy gradient by using `jax.grad()` on `batched_policy_gradient_loss`\n",
        "  grad_loss = jax.grad(batched_policy_gradient_loss)(params, memory.obs, memory.action, memory.reward_to_go)\n",
        "\n",
        "  # Get param updates using gradient and optimizer\n",
        "  updates, new_optim_state = REINFORCE_OPTIMIZER.update(grad_loss, learner_state.optim_state)\n",
        "\n",
        "  # Apply updates to params\n",
        "  params = optax.apply_updates(params, updates)\n",
        "\n",
        "  return params, REINFORCELearnState(new_optim_state) # update learner state"
      ]
    },
    {
      "cell_type": "markdown",
      "metadata": {
        "id": "5an3U2NhRKgG"
      },
      "source": [
        "### Цикл обучения REINFORCE\n",
        "Теперь мы можем обучить нашего агента REINFORCE, собрав все воедино с помощью цикла обучения."
      ]
    },
    {
      "cell_type": "code",
      "execution_count": 153,
      "metadata": {
        "id": "vioIcVGsRjM5",
        "colab": {
          "base_uri": "https://localhost:8080/",
          "height": 1000
        },
        "outputId": "7d619c0f-5eeb-45d4-ed2d-05ae8ffd2633"
      },
      "outputs": [
        {
          "output_type": "stream",
          "name": "stdout",
          "text": [
            "Starting training. This may take up to 10 minutes to complete.\n",
            "Episode: 0\tEpisode Return: 8.0\tAverage Episode Return: 8.0\tEvaluator Episode Return: 19.25\n",
            "all_action_probs: Traced<ShapedArray(float32[2])>with<BatchTrace> with\n",
            "  val = Traced<ShapedArray(float32[256,2])>with<JVPTrace> with\n",
            "    primal = Traced<ShapedArray(float32[256,2])>with<DynamicJaxprTrace>\n",
            "    tangent = Traced<ShapedArray(float32[256,2])>with<JaxprTrace> with\n",
            "      pval = (ShapedArray(float32[256,2]), None)\n",
            "      recipe = JaxprEqnRecipe(eqn_id=<object object at 0x7926f46a4d90>, in_tracers=(Traced<ShapedArray(float32[256,2]):JaxprTrace>, Traced<ShapedArray(float32[256,1]):JaxprTrace>, Traced<ShapedArray(float32[256,1]):JaxprTrace>, Traced<ShapedArray(float32[256,2]):JaxprTrace>, Traced<ShapedArray(float32[256,1]):JaxprTrace>), out_tracer_refs=[<weakref at 0x7926f449e480; to 'JaxprTracer' at 0x7926f449e2a0>], out_avals=[ShapedArray(float32[256,2])], primitive=pjit, params={'jaxpr': { lambda ; a:f32[256,2] b:f32[256,1] c:f32[256,1] d:f32[256,2] e:f32[256,1]. let\n",
            "    f:f32[256,2] = div a c\n",
            "    g:f32[256,1] = neg b\n",
            "    h:f32[256,2] = mul g d\n",
            "    i:f32[256,2] = mul h e\n",
            "    j:f32[256,2] = add_any f i\n",
            "  in (j,) }, 'in_shardings': (UnspecifiedValue, UnspecifiedValue, UnspecifiedValue, UnspecifiedValue, UnspecifiedValue), 'out_shardings': (UnspecifiedValue,), 'in_layouts': (None, None, None, None, None), 'out_layouts': (None,), 'resource_env': None, 'donated_invars': (False, False, False, False, False), 'name': 'true_divide', 'keep_unused': False, 'inline': True, 'compiler_options_kvs': ()}, effects=set(), source_info=<jax._src.source_info_util.SourceInfo object at 0x7926f448f010>, ctx=JaxprEqnContext(compute_type=None, threefry_partitionable=True, cur_abstract_mesh=AbstractMesh((), axis_types={}), xla_metadata=None))\n",
            "  batch_dim = 0\n",
            "action_prob: Traced<ShapedArray(float32[])>with<BatchTrace> with\n",
            "  val = Traced<ShapedArray(float32[256])>with<JVPTrace> with\n",
            "    primal = Traced<ShapedArray(float32[256])>with<DynamicJaxprTrace>\n",
            "    tangent = Traced<ShapedArray(float32[256])>with<JaxprTrace> with\n",
            "      pval = (ShapedArray(float32[256]), None)\n",
            "      recipe = JaxprEqnRecipe(eqn_id=<object object at 0x7926f46a4fa0>, in_tracers=(Traced<ShapedArray(float32[256,1]):JaxprTrace>,), out_tracer_refs=[<weakref at 0x7926f449ed90; to 'JaxprTracer' at 0x7926f449ee30>], out_avals=[ShapedArray(float32[256])], primitive=squeeze, params={'dimensions': (1,)}, effects=frozenset(), source_info=<jax._src.source_info_util.SourceInfo object at 0x7926f44b8190>, ctx=JaxprEqnContext(compute_type=None, threefry_partitionable=True, cur_abstract_mesh=AbstractMesh((), axis_types={}), xla_metadata=None))\n",
            "  batch_dim = 0\n",
            "weighted_log_prob: Traced<ShapedArray(float32[])>with<BatchTrace> with\n",
            "  val = Traced<ShapedArray(float32[256])>with<JVPTrace> with\n",
            "    primal = Traced<ShapedArray(float32[256])>with<DynamicJaxprTrace>\n",
            "    tangent = Traced<ShapedArray(float32[256])>with<JaxprTrace> with\n",
            "      pval = (ShapedArray(float32[256]), None)\n",
            "      recipe = JaxprEqnRecipe(eqn_id=<object object at 0x7926f46a52f0>, in_tracers=(Traced<ShapedArray(float32[256]):JaxprTrace>, Traced<ShapedArray(float32[256]):JaxprTrace>), out_tracer_refs=[<weakref at 0x7926f449fd30; to 'JaxprTracer' at 0x7926f449fe20>], out_avals=[ShapedArray(float32[256])], primitive=pjit, params={'jaxpr': { lambda ; a:f32[256] b:f32[256]. let c:f32[256] = mul a b in (c,) }, 'in_shardings': (UnspecifiedValue, UnspecifiedValue), 'out_shardings': (UnspecifiedValue,), 'in_layouts': (None, None), 'out_layouts': (None,), 'resource_env': None, 'donated_invars': (False, False), 'name': 'multiply', 'keep_unused': False, 'inline': True, 'compiler_options_kvs': ()}, effects=set(), source_info=<jax._src.source_info_util.SourceInfo object at 0x7926f44b96c0>, ctx=JaxprEqnContext(compute_type=None, threefry_partitionable=True, cur_abstract_mesh=AbstractMesh((), axis_types={}), xla_metadata=None))\n",
            "  batch_dim = 0\n",
            "Episode: 100\tEpisode Return: 32.0\tAverage Episode Return: 34.45\tEvaluator Episode Return: 52.25\n",
            "Episode: 200\tEpisode Return: 200.0\tAverage Episode Return: 181.45\tEvaluator Episode Return: 190.375\n",
            "Episode: 300\tEpisode Return: 200.0\tAverage Episode Return: 197.2\tEvaluator Episode Return: 171.25\n",
            "Episode: 400\tEpisode Return: 200.0\tAverage Episode Return: 194.9\tEvaluator Episode Return: 200.0\n",
            "Episode: 500\tEpisode Return: 200.0\tAverage Episode Return: 200.0\tEvaluator Episode Return: 199.25\n",
            "Episode: 600\tEpisode Return: 128.0\tAverage Episode Return: 151.8\tEvaluator Episode Return: 169.0\n",
            "Episode: 700\tEpisode Return: 200.0\tAverage Episode Return: 199.0\tEvaluator Episode Return: 200.0\n",
            "Episode: 800\tEpisode Return: 200.0\tAverage Episode Return: 191.6\tEvaluator Episode Return: 200.0\n",
            "Episode: 900\tEpisode Return: 200.0\tAverage Episode Return: 190.95\tEvaluator Episode Return: 200.0\n",
            "Episode: 1000\tEpisode Return: 200.0\tAverage Episode Return: 200.0\tEvaluator Episode Return: 200.0\n"
          ]
        },
        {
          "output_type": "display_data",
          "data": {
            "text/plain": [
              "<Figure size 640x480 with 1 Axes>"
            ],
            "image/png": "[encoded data removed]"
          },
          "metadata": {}
        }
      ],
      "source": [
        "# JIT the choose_action and learn functions for more speed\n",
        "REINFORCE_learn_jit = jax.jit(REINFORCE_learn)\n",
        "REINFORCE_choose_action_jit = jax.jit(REINFORCE_choose_action)\n",
        "\n",
        "# Initial learn state\n",
        "REINFORCE_learn_state = REINFORCELearnState(REINFORCE_optim_state)\n",
        "\n",
        "# Run training loop\n",
        "print(\"Starting training. This may take up to 10 minutes to complete.\")\n",
        "episode_returns, evaluator_returns = run_training_loop(\n",
        "                                        env_name,\n",
        "                                        REINFORCE_params,\n",
        "                                        REINFORCE_choose_action_jit,\n",
        "                                        None, # action state not used\n",
        "                                        REINFORCE_learn_jit,\n",
        "                                        REINFORCE_learn_state,\n",
        "                                        REINFORCE_memory,\n",
        "                                        num_episodes=1001,\n",
        "                                        learn_steps_per_episode=2,\n",
        "                                        video_subdir=\"reinforce\"\n",
        "                                      )\n",
        "\n",
        "# Plot the episode returns\n",
        "plt.plot(episode_returns)\n",
        "plt.xlabel(\"Episode\")\n",
        "plt.ylabel(\"Episode Return\")\n",
        "plt.title(\"REINFORCE\")\n",
        "plt.show()\n"
      ]
    },
    {
      "cell_type": "code",
      "execution_count": 154,
      "metadata": {
        "id": "caKL3ngNr_Yh",
        "colab": {
          "base_uri": "https://localhost:8080/",
          "height": 288
        },
        "outputId": "705396b3-5076-4a32-a1b2-dbbfc89deac4"
      },
      "outputs": [
        {
          "output_type": "execute_result",
          "data": {
            "text/plain": [
              "<IPython.core.display.HTML object>"
            ],
            "text/html": [
              "\n",
              "<video width=400 controls>\n",
              "      <source src=\"data:video/mp4;base64,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\" type=\"video/mp4\">\n",
              "</video>\n"
            ]
          },
          "metadata": {},
          "execution_count": 154
        }
      ],
      "source": [
        "#@title Визуализация {display-mode: \"form\"}\n",
        "#@markdown Выберите номер эпизода, менее или равного 1000, и **run this cell**.\n",
        "\n",
        "episode_number = 1000 #@param {type:\"number\"}\n",
        "\n",
        "assert (episode_number % 100) == 0, \"Episode number must be a multiple of 100 since we only record every 100th episode.\"\n",
        "assert episode_number < 1001, \"Episode number must be less than or equal to 1000\"\n",
        "\n",
        "eval_episode_number = int(episode_number / 100 * 8)\n",
        "video_path = f\"./video/reinforce/eval/rl-video-episode-{eval_episode_number}.mp4\"\n",
        "\n",
        "mp4 = open(video_path,'rb').read()\n",
        "data_url = \"data:video/mp4;base64,\" + b64encode(mp4).decode()\n",
        "HTML(\"\"\"\n",
        "<video width=400 controls>\n",
        "      <source src=\"%s\" type=\"video/mp4\">\n",
        "</video>\n",
        "\"\"\" % data_url)"
      ]
    },
    {
      "cell_type": "markdown",
      "metadata": {
        "id": "D_HHzFTOc-Qr"
      },
      "source": [
        "## 4. Q-Learning\n",
        "Другим распространенным подходом к поиску оптимальной политики в среде с использованием RL является Q-обучение."
      ]
    },
    {
      "cell_type": "markdown",
      "metadata": {
        "id": "lF1nOZrUSzhE"
      },
      "source": [
        "### Функция значения состояния-действия\n",
        "В Q-обучении агент изучает функцию, которая аппроксимирует **значение** пар состояние-действие. Под *значением* мы подразумеваем отдачу, которую вы ожидаете получить, если начнете в определенном состоянии $s_t$, выполните определенное действие $a_t$, а затем будете действовать в соответствии с определенной политикой $\\pi$ навсегда. Функция значения состояния-действия политики $\\pi$ задается как\n",
        "\n",
        "$Q_\\pi(s,a)=\\mathrm{E}_{\\tau\\sim\\pi}\\left[R(\\tau) \\mid s_0=s,\\ a_t=a\\right]$.\n",
        "\n",
        "Мы говорим, что функция значения $Q_\\pi(s,a)$ является **оптимальной** функцией значения, если политика $\\pi$ является оптимальной политикой. Обозначим функцию оптимального значения следующим образом:\n",
        "\n",
        "$Q_\\ast(s,a)=\\max \\limits_\\pi \\ \\mathrm{E}_{\\tau\\sim\\pi}\\left[R(\\tau) \\mid s_0=s,\\ a_0=a\\right]$\n",
        "\n",
        "Существует важная связь между оптимальным действием $a_\\ast$ в состоянии $s$ и оптимальной функцией значения состояния-действия $Q_\\ast$. А именно, оптимальное действие $a_\\ast$ в состоянии $s$ равно действию, которое максимизирует оптимальную функцию значения состояния-действия. Эта связь естественным образом индуцирует оптимальную политику:\n",
        "\n",
        "$\\pi_\\ast(s)=\\arg \\max \\limits_a\\ Q_\\ast(s, a)$"
      ]
    },
    {
      "cell_type": "markdown",
      "metadata": {
        "id": "H2x2tqvZSihz"
      },
      "source": [
        "### Greedy action selection (Жадный выбор действия)\n",
        "\n",
        "**Упражнение 10:** Давайте реализуем функцию, которая, учитывая вектор Q-значений, возвращает действие с наибольшим Q-значением (т. е. жадное действие).\n",
        "\n",
        "**Useful methods:**\n",
        "*   `jax.numpy.argmax` ([docs](https://jax.readthedocs.io/en/latest/_autosummary/jax.numpy.argmax.html))"
      ]
    },
    {
      "cell_type": "code",
      "execution_count": 155,
      "metadata": {
        "id": "Nn9P1YdzTIDU"
      },
      "outputs": [],
      "source": [
        "# Implement a function takes q-values as input and returns the greedy_action\n",
        "def select_greedy_action(q_values):\n",
        "\n",
        "  # YOUR CODE\n",
        "  action = jnp.argmax(q_values)\n",
        "  # END YOUR CODE\n",
        "\n",
        "  return action"
      ]
    },
    {
      "cell_type": "code",
      "execution_count": 156,
      "metadata": {
        "id": "ZBzLr_G7QKXR",
        "colab": {
          "base_uri": "https://localhost:8080/"
        },
        "outputId": "d8888825-01ea-4d0e-b9ed-51e59674aad9"
      },
      "outputs": [
        {
          "output_type": "stream",
          "name": "stdout",
          "text": [
            "Looks good.\n"
          ]
        }
      ],
      "source": [
        "# @title Проверка упр 10 (run me) {display-mode: \"form\"}\n",
        "\n",
        "try:\n",
        "  q_values = jnp.array([1,1,3,4])\n",
        "  action = select_greedy_action(q_values)\n",
        "\n",
        "  if action != 3:\n",
        "    print(\"Incorrect answer, your greedy action selector looks wrong\")\n",
        "  else:\n",
        "    print(\"Looks good.\")\n",
        "except Exception as e:\n",
        "  print(\"An Error Occured: {}\".format(e))\n"
      ]
    },
    {
      "cell_type": "markdown",
      "metadata": {
        "id": "PFQUlqZ4ZyLp"
      },
      "source": [
        "### Q-Network\n",
        "В отличие от подхода с градиентом политики из предыдущего раздела, в Q-обучении и других методах RL на основе значений нам не нужна параметризация для политики, вместо этого мы параметризуем Q-функцию с помощью нейронной сети $Q_\\theta$. Мы получаем политику из Q-сети, всегда выбирая действие с *наибольшим* значением:\n",
        "\n",
        "$\\hat{\\pi}_\\theta(s)=\\arg \\max \\limits_a\\ Q_{\\theta}(s, a)$\n",
        "\n",
        "Как и ранее, мы будем использовать хайку для создания нейронной сети для аппроксимации этой Q-функции. Сеть будет принимать наблюдение в качестве входных данных, а затем выводить Q-значение для каждого из доступных действий. Таким образом, в случае CartPole выход сети будет иметь размер $2$."
      ]
    },
    {
      "cell_type": "code",
      "execution_count": 157,
      "metadata": {
        "id": "9wU1soJYZyLp"
      },
      "outputs": [],
      "source": [
        "def build_network(num_actions: int, layers=[20, 20]) -> hk.Transformed:\n",
        "  \"\"\"Factory for a simple MLP network for approximating Q-values.\"\"\"\n",
        "\n",
        "  def q_network(obs):\n",
        "    network = hk.Sequential(\n",
        "        [hk.Flatten(),\n",
        "         hk.nets.MLP(layers + [num_actions])])\n",
        "    return network(obs)\n",
        "\n",
        "  return hk.without_apply_rng(hk.transform(q_network))"
      ]
    },
    {
      "cell_type": "markdown",
      "metadata": {
        "id": "sUwG-4qTS1zx"
      },
      "source": [
        "Давайте инициализируем нашу Q-сеть и получим начальные параметры."
      ]
    },
    {
      "cell_type": "code",
      "execution_count": 158,
      "metadata": {
        "id": "1uvq5n2cS9lu",
        "colab": {
          "base_uri": "https://localhost:8080/"
        },
        "outputId": "ae6db7b6-faf7-4502-b886-a77e37489d4f"
      },
      "outputs": [
        {
          "output_type": "stream",
          "name": "stdout",
          "text": [
            "Q-Learning params: dict_keys(['mlp/~/linear_0', 'mlp/~/linear_1', 'mlp/~/linear_2'])\n"
          ]
        }
      ],
      "source": [
        "# Initialise Q-network\n",
        "Q_NETWORK = build_network(num_actions=num_actions, layers=[20, 20]) # two actions\n",
        "\n",
        "dummy_obs = jnp.zeros((1,*obs_shape), jnp.float32) # a dummy observation like the one in CartPole\n",
        "\n",
        "random_key = jax.random.PRNGKey(42) # random key\n",
        "Q_NETWORK_PARAMS = Q_NETWORK.init(random_key, dummy_obs) # Get initial params\n",
        "\n",
        "print(\"Q-Learning params:\", Q_NETWORK_PARAMS.keys())"
      ]
    },
    {
      "cell_type": "markdown",
      "metadata": {
        "id": "iqCUeZfhEfyP"
      },
      "source": [
        "Прежде чем мы реализуем функцию потерь, необходимую для обучения нашей Q-сети, давайте сначала обсудим интуицию, стоящую за ней."
      ]
    },
    {
      "cell_type": "markdown",
      "metadata": {
        "id": "vbLig3uSZyLp"
      },
      "source": [
        "### The Bellman Equations (Уравнения Беллмана)\n",
        "Функция значения может быть записана рекурсивно как:\n",
        "\n",
        "$Q_{\\pi}(s, a) =\\underset{s^{\\prime} \\sim P}{\\mathrm{E}}\\left[r(s, a)+ \\underset{a^{\\prime} \\sim \\pi}{\\mathrm{E}}\\left[Q_{\\pi}\\left(s^{\\prime}, a^{\\prime}\\right)\\right]\\right]$,\n",
        "\n",
        "где $s' \\sim P$ — это сокращение для обозначения того, что следующее состояние $s'$ выбирается из функции перехода среды $P(s'\\mid s,a)$. Интуитивно это уравнение говорит, что ценность действия $a$, которое вы предприняли в состоянии $s$, равна вознаграждению $r$, которое вы ожидаете получить, плюс ценность, которую вы ожидаете получить в следующем состоянии $s`$, в котором вы окажетесь, при условии, что вы выберете свое следующее действие $a`$ с политикой $\\pi$. Уравнение Беллмана для оптимальной функции ценности выглядит так:\n",
        "\n",
        "$Q_{*}(s, a) =\\underset{s^{\\prime} \\sim P}{\\mathrm{E}}\\left[r(s, a)+\\ \\underset{a^{\\prime}}{\\max}\\ Q_{*}(s^{\\prime}, a^{\\prime})\\right]$\n",
        "\n",
        "Обратите внимание, что вместо выбора вашего следующего действия $a`$ с политикой $\\pi$ мы выбираем действие с наибольшим значением Q.\n",
        "\n",
        "Более подробное обсуждение уравнений Беллмана можно найти на сайте [OpenAI Spinning Up](https://spinningup.openai.com/en/latest/spinningup/rl_intro.html)."
      ]
    },
    {
      "cell_type": "markdown",
      "metadata": {
        "id": "DsOJi5G8ZyLp"
      },
      "source": [
        "### The Bellman Backup (Резервное копирование Беллмана)\n",
        "\n",
        "Чтобы научиться аппроксимировать оптимальную функцию Q-значения, мы можем использовать правую часть уравнения Беллмана в качестве правила обновления. Другими словами, предположим, что у нас есть Q-сеть $Q_\\theta$, аппроксимированная с использованием параметров $\\theta$, тогда мы можем итеративно обновлять параметры таким образом, что\n",
        "\n",
        "$Q_\\theta(s,a)\\leftarrow r(s, a) + \\underset{a'}{\\max}\\ Q_\\theta(s', a')$.\n",
        "\n",
        "Интуитивно это означает, что аппроксимация Q-значения действия $a$ в состоянии $s$ должна быть обновлена ​​таким образом, чтобы она была ближе к равной вознаграждению, полученному от среды $r(s, a)$, плюс значение наилучшего возможного действия в следующем состоянии $s'$. Мы можем выполнить эту оптимизацию, минимизируя разницу между левой и правой частью относительно параметров $\\theta$, используя градиентный спуск. Мы можем измерить разницу между двумя значениями, используя [квадратичную ошибку](https://en.wikipedia.org/wiki/Mean_squared_error#Loss_function).\n",
        "\n",
        "**Упражнение 11:** Реализуйте функцию квадратичной ошибки.\n",
        "\n",
        "**Полезные функции**\n",
        "* `jax.numpy.square` ([docs](https://jax.readthedocs.io/en/latest/_autosummary/jax.numpy.square.html))"
      ]
    },
    {
      "cell_type": "code",
      "execution_count": 159,
      "metadata": {
        "id": "PTto__ohZyLp"
      },
      "outputs": [],
      "source": [
        "def compute_squared_error(pred, target):\n",
        "  # YOUR CODE\n",
        "  squared_error = jnp.square(pred - target)\n",
        "  # END YOUR CODE\n",
        "\n",
        "  return squared_error"
      ]
    },
    {
      "cell_type": "code",
      "execution_count": 160,
      "metadata": {
        "id": "wGhX8XTFVPVU",
        "colab": {
          "base_uri": "https://localhost:8080/"
        },
        "outputId": "1195fa7d-49cf-4cf0-ff1f-172589700693"
      },
      "outputs": [
        {
          "output_type": "stream",
          "name": "stdout",
          "text": [
            "Looks good.\n"
          ]
        }
      ],
      "source": [
        "#@title Проверка упр 11 {display-mode: \"form\"}\n",
        "\n",
        "try:\n",
        "  result = compute_squared_error(1, 4)\n",
        "\n",
        "  if result != 9:\n",
        "    print(\"Your implementation looks wrong.\")\n",
        "  else:\n",
        "    print(\"Looks good.\")\n",
        "except Exception as e:\n",
        "  print(\"An Error Occured: {}\".format(e))"
      ]
    },
    {
      "cell_type": "markdown",
      "metadata": {
        "id": "ycpZVkgdZyLp"
      },
      "source": [
        "**Упражнение 12:** Реализуйте функцию, которая вычисляет **цель Беллмана** (правая часть уравнения Беллмана). Если эпизод находится на последнем временном шаге (т. е. done==1.0), то цель Беллмана должна быть равна награде, без дополнительного значения в конце.\n",
        "\n",
        "**Полезные функции**\n",
        "* `jax.numpy.max` ([docs](https://jax.readthedocs.io/en/latest/_autosummary/jax.numpy.max.html))"
      ]
    },
    {
      "cell_type": "code",
      "execution_count": 161,
      "metadata": {
        "id": "961_OllWZyLp"
      },
      "outputs": [],
      "source": [
        "# Bellman target\n",
        "def compute_bellman_target(reward, done, next_q_values):\n",
        "  \"\"\"A function to compute the bellman target.\n",
        "\n",
        "  Args:\n",
        "      reward: a scalar reward.\n",
        "      done: a scalar of value either 1.0 or 0.0, indicating if the transition is a terminal one.\n",
        "      next_q_values: a vector of q_values for the next state. One for each action.\n",
        "  Returns:\n",
        "      A scalar equal to the bellman target.\n",
        "\n",
        "  \"\"\"\n",
        "  # YOUR CODE\n",
        "  bellman_target = reward +  jnp.max(next_q_values) * (1.0 - done)\n",
        "  # END YOUR CODE\n",
        "\n",
        "  return bellman_target"
      ]
    },
    {
      "cell_type": "code",
      "execution_count": 162,
      "metadata": {
        "id": "E5RAhegOWAkC",
        "colab": {
          "base_uri": "https://localhost:8080/"
        },
        "outputId": "96a09093-a235-46d8-98f0-82538bcf83ab"
      },
      "outputs": [
        {
          "output_type": "stream",
          "name": "stdout",
          "text": [
            "Looks good.\n"
          ]
        }
      ],
      "source": [
        "#@title Проверка упр 12 {display-mode: \"form\"}\n",
        "\n",
        "try:\n",
        "  # not done\n",
        "  result1 = compute_bellman_target(1, 0.0, np.array([3,2], \"float32\"))\n",
        "\n",
        "  # done\n",
        "  result2 = compute_bellman_target(1, 1.0, np.array([3,2], \"float32\"))\n",
        "\n",
        "  if result1 != 4 or result2 != 1:\n",
        "    print(\"Your implementation looks wrong.\")\n",
        "  else:\n",
        "    print(\"Looks good.\")\n",
        "except Exception as e:\n",
        "  print(\"An Error Occured: {}\".format(e))"
      ]
    },
    {
      "cell_type": "markdown",
      "metadata": {
        "id": "8sIjrHSJZyLq"
      },
      "source": [
        "Теперь мы можем объединить эти две функции, чтобы вычислить потерю для Q-обучения. Потери Q-обучения равны квадрату разницы между прогнозируемым значением Q действия и его соответствующей целью Беллмана.\n",
        "\n",
        "**Упражнение 13:** Реализуйте функцию потери Q-обучения."
      ]
    },
    {
      "cell_type": "code",
      "execution_count": 163,
      "metadata": {
        "id": "LJY_kpFcZyLq"
      },
      "outputs": [],
      "source": [
        "def q_learning_loss(q_values, action, reward, done, next_q_values):\n",
        "    \"\"\"Implementation of the Q-learning loss.T\n",
        "\n",
        "    Args:\n",
        "        q_values: a vector of Q-values, one for each action.\n",
        "        action: an integer, giving the action that was chosen. q_values[action] is the value of the chose action.\n",
        "        done: is a scalar that indicates if this is a terminal transition.\n",
        "        next_q_values: a vector of Q-values in the next state.\n",
        "    Returns:\n",
        "        The squared difference between the q_value of the chosen action and the bellman target.\n",
        "    \"\"\"\n",
        "    # YOUR CODE\n",
        "    chosen_action_q_value =  q_values[action] # q_value of action, use array indexing\n",
        "    bellman_target = compute_bellman_target(reward, done, next_q_values)\n",
        "    squared_error = compute_squared_error(chosen_action_q_value, bellman_target)\n",
        "    # END YOUR CODE\n",
        "\n",
        "    return squared_error"
      ]
    },
    {
      "cell_type": "code",
      "execution_count": 164,
      "metadata": {
        "id": "1aZRn1qaWx2M",
        "colab": {
          "base_uri": "https://localhost:8080/"
        },
        "outputId": "cd44f6fa-f75b-407e-8166-fea996a4a0d2"
      },
      "outputs": [
        {
          "output_type": "stream",
          "name": "stdout",
          "text": [
            "Looks good.\n"
          ]
        }
      ],
      "source": [
        "#@title Проверка упр 13 {display-mode: \"form\"}\n",
        "\n",
        "try:\n",
        "  result = q_learning_loss(np.array([3,2], \"float32\"), 1, 2, 0.0, np.array([3,2], \"float32\"))\n",
        "\n",
        "  if result != 9.0:\n",
        "    print(\"Your implementation looks wrong.\")\n",
        "  else:\n",
        "    print(\"Looks good.\")\n",
        "except Exception as e:\n",
        "  print(\"An Error Occured: {}\".format(e))"
      ]
    },
    {
      "cell_type": "markdown",
      "metadata": {
        "id": "b4YnSUfJZyLq"
      },
      "source": [
        "### Target Q-network (Целевая Q-сеть)\n",
        "Обратите внимание: когда мы вычисляем цель Беллмана, мы используем нашу Q-сеть $Q_\\theta$ для вычисления значения для следующего состояния $s_t$. По сути, мы используем наше последнее приближение Q-функции для вычисления цели нашего следующего приближения. Использование приближения для вычисления цели для вашего следующего приближения называется самозагрузкой. К сожалению, если мы наивно делаем такую ​​самозагрузку, это может сделать обучение нейронной сети очень нестабильным. Чтобы смягчить это, мы можем вместо этого использовать другой набор параметров $\\hat{\\theta}$ для вычисления значений в состоянии $s_{t+1}$. Мы будем сохранять параметры $\\hat{\\theta}$ фиксированными и только периодически обновлять их, чтобы они были равны последним онлайн-параметрам $\\theta$ каждые пару шагов обучения *(скажем, 100)*. Это позволяет сохранять фиксированные цели Беллмана для пары шагов обучения, чтобы помочь снизить нестабильность из-за самозагрузки.\n",
        "\n",
        "Нам нужно будет отслеживать последние (онлайн) параметры, а также параметры целевых сетей. Давайте создадим `NamedTuple` для хранения этих двух значений. Нам также нужно будет отслеживать количество шагов обучения, которые мы сделали, чтобы знать, когда обновлять целевую сеть. Давайте сохраним `count` шагов обучения в `learn_state`."
      ]
    },
    {
      "cell_type": "code",
      "execution_count": 165,
      "metadata": {
        "id": "DvZqUKmq6L7k"
      },
      "outputs": [],
      "source": [
        "# Store online and target parameters\n",
        "QLearnParams = collections.namedtuple(\"Params\", [\"online\", \"target\"])\n",
        "\n",
        "# Q-learn-state\n",
        "QLearnState = collections.namedtuple(\"LearnerState\", [\"count\", \"optim_state\"])"
      ]
    },
    {
      "cell_type": "markdown",
      "metadata": {
        "id": "CJWH2_kNZsau"
      },
      "source": [
        "Мы снова будем использовать Optax для оптимизации нашей нейронной сети в JAX. Мы сохраняем состояние оптимизатора в `learn_state` выше. Давайте теперь создадим экземпляр оптимизатора и добавим начальные параметры Q-сети в объект `QLearnParams`."
      ]
    },
    {
      "cell_type": "code",
      "execution_count": 166,
      "metadata": {
        "id": "HwqKTN6BaAXE"
      },
      "outputs": [],
      "source": [
        "# Initialise Q-network optimizer\n",
        "Q_LEARN_OPTIMIZER = optax.adam(3e-4) # learning rate\n",
        "\n",
        "Q_LEARN_OPTIM_STATE = Q_LEARN_OPTIMIZER.init(Q_NETWORK_PARAMS) # initial optim state\n",
        "\n",
        "# Create Learn State\n",
        "Q_LEARNING_LEARN_STATE = QLearnState(0, Q_LEARN_OPTIM_STATE) # count set to zero initially\n",
        "\n",
        "# Add initial Q-network weights to QLearnParams object\n",
        "Q_LEARNING_PARAMS = QLearnParams(online=Q_NETWORK_PARAMS, target=Q_NETWORK_PARAMS) # target equal to online"
      ]
    },
    {
      "cell_type": "markdown",
      "metadata": {
        "id": "xj89M8LgZlFe"
      },
      "source": [
        "Теперь мы можем реализовать простую функцию, которая обновляет параметры целевых сетей, чтобы они соответствовали последним онлайн-параметрам каждые 100 шагов обучения."
      ]
    },
    {
      "cell_type": "code",
      "execution_count": 167,
      "metadata": {
        "id": "SKrg_3rO6cCL"
      },
      "outputs": [],
      "source": [
        "def update_target_params(learn_state, online_weights, target_weights):\n",
        "  \"\"\"A function to update target params every 100 training steps\"\"\"\n",
        "\n",
        "  target = jax.lax.cond(\n",
        "      jax.numpy.mod(learn_state.count, 100) == 0,\n",
        "      lambda x, y: x,\n",
        "      lambda x, y: y,\n",
        "      online_weights,\n",
        "      target_weights\n",
        "  )\n",
        "\n",
        "  params = QLearnParams(online_weights, target)\n",
        "\n",
        "  return params"
      ]
    },
    {
      "cell_type": "markdown",
      "metadata": {
        "id": "KoiaYSo9ZyLq"
      },
      "source": [
        "### Q-learning loss (Функция потери Q-обучения)\n",
        "Теперь у нас есть все необходимое для реализации функции `q_learn`, которая принимает некоторую партию переходов и выполняет шаг Q-обучения для обновления параметров сети. Но сначала мы используем `jax.vmap` для изменения функции `q_learning_loss` так, чтобы она принимала партии переходов. Кроме того, мы вычислим Q-значения, передавая наблюдения через `Q_NETWORK`, и целевые Q-значения, используя целевые параметры `Q_NETWORK`."
      ]
    },
    {
      "cell_type": "code",
      "execution_count": 168,
      "metadata": {
        "id": "hnrsGppWZyLq"
      },
      "outputs": [],
      "source": [
        "def batched_q_learning_loss(online_params, target_params, obs, actions, rewards, next_obs, dones):\n",
        "    q_values = Q_NETWORK.apply(online_params, obs) # use the online parameters\n",
        "    next_q_values = Q_NETWORK.apply(target_params, next_obs) # use the target parameters\n",
        "    squared_error = jax.vmap(q_learning_loss)(q_values, actions, rewards, dones, next_q_values) # vmap q_learning_loss\n",
        "    mean_squared_error = jnp.mean(squared_error) # mean squared error over batch\n",
        "    return mean_squared_error"
      ]
    },
    {
      "cell_type": "markdown",
      "metadata": {
        "id": "CU8vo9ZebnEa"
      },
      "source": [
        "Теперь мы можем создать функцию `q_learn`, которая вычисляет градиент `batched_q_learning_loss`, а затем использует оптимизатор Optax для обновления весов сети, а затем, наконец (возможно), обновляет целевые параметры."
      ]
    },
    {
      "cell_type": "code",
      "execution_count": 169,
      "metadata": {
        "id": "6BYoX2W_ZyLr"
      },
      "outputs": [],
      "source": [
        "def q_learn(rng, params, learner_state, memory):\n",
        "  # Compute gradients\n",
        "  grad_loss = jax.grad(batched_q_learning_loss)(params.online, params.target, memory.obs,\n",
        "                                          memory.action, memory.reward,\n",
        "                                          memory.next_obs, memory.done,\n",
        "                                          ) # jax.grad\n",
        "\n",
        "  # Get updates\n",
        "  updates, opt_state = Q_LEARN_OPTIMIZER.update(grad_loss, learner_state.optim_state)\n",
        "\n",
        "  # Apply them\n",
        "  new_weights = optax.apply_updates(params.online, updates)\n",
        "\n",
        "  # Maybe update target network\n",
        "  params = update_target_params(learner_state, new_weights, params.target)\n",
        "\n",
        "  # Increment learner step counter\n",
        "  learner_state = QLearnState(learner_state.count + 1, opt_state)\n",
        "\n",
        "  return params, learner_state"
      ]
    },
    {
      "cell_type": "markdown",
      "metadata": {
        "id": "VpZsKHssZyLq"
      },
      "source": [
        "### Replay Buffer (Буфер воспроизведения)\n",
        "Для Q-обучения нам понадобится память агента, которая хранит целые переходы: `obs`, `action`, `reward`, `next_obs`, `done`. Когда мы извлекаем переходы из памяти, они должны выбираться случайным образом из всех переходов, собранных до сих пор. В RL мы часто называем такой модуль **буфером воспроизведения**.\n",
        "\n",
        "Одним из преимуществ использования такого буфера воспроизведения является то, что опыт можно повторно использовать несколько раз для обучения, в отличие от алгоритма градиента политики REINFORCE, где мы отбрасывали воспоминания после их использования для обучения."
      ]
    },
    {
      "cell_type": "code",
      "execution_count": 170,
      "metadata": {
        "id": "8tv5dUH6ZyLr"
      },
      "outputs": [],
      "source": [
        "class TransitionMemory(object):\n",
        "  \"\"\"A simple Python replay buffer.\"\"\"\n",
        "\n",
        "  def __init__(self, max_size=10_000, batch_size=256):\n",
        "    self.batch_size = batch_size\n",
        "    self.buffer = collections.deque(maxlen=max_size)\n",
        "\n",
        "  def push(self, transition):\n",
        "\n",
        "    # add transition to the replay buffer\n",
        "    self.buffer.append(\n",
        "        (transition.obs, transition.action, transition.reward,\n",
        "          transition.next_obs, transition.done)\n",
        "    )\n",
        "\n",
        "\n",
        "  def is_ready(self):\n",
        "    return self.batch_size <= len(self.buffer)\n",
        "\n",
        "  def sample(self):\n",
        "    # Randomly sample a batch of transitions from the buffer\n",
        "    random_replay_sample = random.sample(self.buffer, self.batch_size)\n",
        "\n",
        "    # Batch the transitions together\n",
        "    obs_batch, action_batch, reward_batch, next_obs_batch, done_batch = zip(*random_replay_sample)\n",
        "\n",
        "    return Transition(\n",
        "        np.stack(obs_batch).astype(\"float32\"),\n",
        "        np.asarray(action_batch).astype(\"int32\"),\n",
        "        np.asarray(reward_batch).astype(\"float32\"),\n",
        "        np.stack(next_obs_batch).astype(\"float32\"),\n",
        "        np.asarray(done_batch).astype(\"float32\")\n",
        "    )\n",
        "\n",
        "# Instantiate the memory\n",
        "Q_LEARNING_MEMORY = TransitionMemory(max_size=50_000, batch_size=256)"
      ]
    },
    {
      "cell_type": "markdown",
      "metadata": {
        "id": "XbHk03VVUHAV"
      },
      "source": [
        "### Случайное исследование\n",
        "У нас почти есть все, что нужно для функционирующего агента Q-обучения. Но одна проблема заключается в том, что если мы всегда выбираем действие с наивысшим значением Q, то политика агента будет полностью [детерминированной](https://www.quora.com/What-is-the-intuitive-difference-between-a-stochastic-model-and-a-deterministic-model). Это означает, что агент всегда будет выбирать одну и ту же стратегию. Это может представлять проблему, поскольку в начале обучения Q-сеть будет очень неточной (т. е. плохой аппроксимацией истинной Q-функции). Таким образом, агент будет последовательно выбирать неоптимальные действия. Более того, агент никогда не отклонится от своей неоптимальной стратегии и никогда не обнаружит новые, потенциально более полезные действия. В результате Q-сеть остается неточной. В идеале агент должен опробовать много разных стратегий, чтобы он мог наблюдать результаты (вознаграждения) своих действий в разных состояниях и таким образом улучшить приближение Q-функции.\n",
        "\n",
        "Один простой способ гарантировать, что агент опробует много разных действий, — позволить ему периодически выбирать некоторые случайные действия вместо жадного (лучшего) действия все время.\n",
        "\n",
        "**Упражнение 14:** Реализуйте функцию, которая, учитывая количество возможных (дискретных) действий, возвращает случайное действие.\n",
        "\n",
        "**Полезные методы:**\n",
        "\n",
        "*  `jax.random.randint` ([docs](https://jax.readthedocs.io/en/latest/_autosummary/jax.random.randint.html))"
      ]
    },
    {
      "cell_type": "code",
      "execution_count": 173,
      "metadata": {
        "id": "uUKkpMLXUtko"
      },
      "outputs": [],
      "source": [
        "def select_random_action(key, num_actions):\n",
        "\n",
        "    # YOUR CODE\n",
        "    action = jax.random.randint(key, minval=0, maxval=num_actions, shape=())\n",
        "    # END YOUR CODE\n",
        "\n",
        "    return action"
      ]
    },
    {
      "cell_type": "code",
      "execution_count": 175,
      "metadata": {
        "id": "NO6va6S2Y40E",
        "colab": {
          "base_uri": "https://localhost:8080/"
        },
        "outputId": "bac42644-69c7-44b8-8207-c916c6a6b832"
      },
      "outputs": [
        {
          "output_type": "stream",
          "name": "stdout",
          "text": [
            "Your implementation looks wrong.\n"
          ]
        }
      ],
      "source": [
        "#@title Проверка упр 14 {display-mode: \"form\"}\n",
        "\n",
        "try:\n",
        "  random_key1 = random_key = jax.random.PRNGKey(6) # random key\n",
        "  random_key2 = random_key = jax.random.PRNGKey(1000) # random key\n",
        "  result1 = select_random_action(random_key1, 2)\n",
        "  result2 = select_random_action(random_key2, 2)\n",
        "\n",
        "  if result1 != 1 or result2 != 0:\n",
        "    print(\"Your implementation looks wrong.\")\n",
        "  else:\n",
        "    print(\"Looks good.\")\n",
        "except:\n",
        "  print(\"Your implementation looks wrong.\")"
      ]
    },
    {
      "cell_type": "markdown",
      "metadata": {
        "id": "8-kKDFT6XU6y"
      },
      "source": [
        "### $\\varepsilon$-greedy action selection (эпсилон жадный выбор действия)\n",
        "В начале обучения, когда точность Q-сети низкая, агенту стоит в основном совершать случайные действия, чтобы он мог узнать, насколько хороши/плохи действия. Однако по мере повышения точности Q-сети агент должен начать совершать меньше случайных действий и вместо этого начать выбирать жадные действия относительно Q-значений. Выбор лучших действий с учетом текущей Q-сети называется **эксплуатацией**. В RL мы часто называем отношение случайных и жадных действий **эпсилоном** $\\varepsilon$. Эпсилон обычно представляет собой десятичное значение в интервале $[0,1]$, где, например, $\\varepsilon=0.4$ означает, что агент выбирает случайное действие в 40% случаев, а жадное действие — в 60% случаев. В RL принято линейно уменьшать значение эпсилон с течением времени, так что агент становится все более жадным по мере повышения точности его Q-сети в процессе обучения.\n",
        "\n",
        "**Упражнение 15:** Реализуйте функцию, которая принимает количество временных шагов в качестве входных данных и возвращает текущее значение эпсилон."
      ]
    },
    {
      "cell_type": "code",
      "execution_count": 176,
      "metadata": {
        "id": "_qejnbCocurG"
      },
      "outputs": [],
      "source": [
        "EPSILON_DECAY_TIMESTEPS = 3000 # decay epsilon over 3000 timesteps\n",
        "EPSILON_MIN = 0.1 # 10% exploration"
      ]
    },
    {
      "cell_type": "code",
      "execution_count": 177,
      "metadata": {
        "id": "5ujSbssCZyLs"
      },
      "outputs": [],
      "source": [
        "def get_epsilon(num_timesteps):\n",
        "  # YOUR CODE\n",
        "  epsilon = 1.0 - (num_timesteps/EPSILON_DECAY_TIMESTEPS) # decay epsilon\n",
        "\n",
        "  epsilon = jax.lax.select(\n",
        "      epsilon < EPSILON_MIN,\n",
        "      EPSILON_MIN, # if less than min then set to min\n",
        "      epsilon # else don't change epsilon\n",
        "  )\n",
        "  # END YOUR CODE\n",
        "\n",
        "  return epsilon"
      ]
    },
    {
      "cell_type": "code",
      "execution_count": 178,
      "metadata": {
        "id": "hvu4zA64aUou",
        "colab": {
          "base_uri": "https://localhost:8080/"
        },
        "outputId": "bcf9b5eb-6975-4cf3-f71e-7e84167f5786"
      },
      "outputs": [
        {
          "output_type": "stream",
          "name": "stdout",
          "text": [
            "Your function looks correct.\n"
          ]
        }
      ],
      "source": [
        "#@title Проверка упр 15 {display-mode: \"form\"}\n",
        "def check_get_epsilon(get_epsilon):\n",
        "  try:\n",
        "    result1 = get_epsilon(10)\n",
        "    result2 = get_epsilon(5_010)\n",
        "\n",
        "    if result1 != 0.99666667 or result2 != 0.1:\n",
        "      print(\"Your function looks wrong.\")\n",
        "    else:\n",
        "      print(\"Your function looks correct.\")\n",
        "  except:\n",
        "    print(\"Your function looks wrong.\")\n",
        "\n",
        "check_get_epsilon(get_epsilon)\n"
      ]
    },
    {
      "cell_type": "markdown",
      "metadata": {
        "id": "t56oo58TVQ_s"
      },
      "source": [
        "**Упражнение 16:** Теперь давайте объединим эти функции для выполнения эпсилон-жадного выбора действия."
      ]
    },
    {
      "cell_type": "code",
      "execution_count": 179,
      "metadata": {
        "id": "NlQx8K4vKUXj"
      },
      "outputs": [],
      "source": [
        "def select_epsilon_greedy_action(key, q_values, num_timesteps):\n",
        "    num_actions = len(q_values) # number of available actions\n",
        "\n",
        "    # YOUR CODE HERE\n",
        "    epsilon = get_epsilon(num_timesteps) # get epsilon value\n",
        "\n",
        "    should_explore = jax.random.uniform(key, shape=()) < epsilon # hint: a boolean expression to check if some random number is less than epsilon\n",
        "\n",
        "    explore_action = select_random_action(key, num_actions)\n",
        "    greedy_action = jax.numpy.argmax(q_values)\n",
        "\n",
        "    action = jax.lax.select(\n",
        "        should_explore,\n",
        "        explore_action, # if should explore\n",
        "        greedy_action # if should be greedy\n",
        "    )\n",
        "    # END YOUR CODE\n",
        "\n",
        "    return action"
      ]
    },
    {
      "cell_type": "code",
      "execution_count": 183,
      "metadata": {
        "id": "mkVU2a5e7P6b",
        "colab": {
          "base_uri": "https://localhost:8080/"
        },
        "outputId": "6ed56f9e-c737-4408-a849-7349d0babc5e"
      },
      "outputs": [
        {
          "output_type": "stream",
          "name": "stdout",
          "text": [
            "Looks like something might be incorrect!\n"
          ]
        }
      ],
      "source": [
        "#@title Проверка упражнения 16 {display-mode: \"form\"}\n",
        "\n",
        "try:\n",
        "  rng = hk.PRNGSequence(jax.random.PRNGKey(42))\n",
        "  dummy_q_values = jnp.array([0,1], jnp.float32)\n",
        "  num_timesteps = 5010 # very greedy\n",
        "  actions1 = []\n",
        "  for i in range(10):\n",
        "      actions1.append(int(select_epsilon_greedy_action(next(rng), dummy_q_values, num_timesteps)))\n",
        "\n",
        "  num_timesteps = 0 # completly random\n",
        "  actions2 = []\n",
        "  for i in range(10):\n",
        "      actions2.append(int(select_epsilon_greedy_action(next(rng), dummy_q_values, num_timesteps)))\n",
        "\n",
        "  if actions1 != [1, 1, 0, 1, 1, 0, 1, 1, 1, 1] or actions2 != [0, 0, 0, 1, 1, 1, 1, 0, 0, 0]:\n",
        "    print(\"Looks like something might be incorrect!\")\n",
        "  else:\n",
        "    print(\"Looks correct!\")\n",
        "except:\n",
        "  print(\"Looks like something might be incorrect!\")"
      ]
    },
    {
      "cell_type": "markdown",
      "metadata": {
        "id": "y5W23MnobN9x"
      },
      "source": [
        "### Действие выбора Q-learning\n",
        "\n",
        "Теперь у нас есть все необходимое для создания функции `q_learning_select_action`. Мы будем использовать `actor_state` для хранения счетчика, который отслеживает текущее количество временных шагов. Мы можем использовать счетчик для уменьшения нашего значения `epsilon`."
      ]
    },
    {
      "cell_type": "code",
      "execution_count": 184,
      "metadata": {
        "id": "81TysLc0RjM6"
      },
      "outputs": [],
      "source": [
        "# Actor state stores the current number of timesteps\n",
        "QActorState = collections.namedtuple(\"ActorState\", [\"count\"])\n",
        "\n",
        "def q_learning_select_action(key, params, actor_state, obs, evaluation=False):\n",
        "    obs = jnp.expand_dims(obs, axis=0) # add dummy batch dim\n",
        "    q_values = Q_NETWORK.apply(params.online, obs)[0] # remove batch dim\n",
        "\n",
        "    action = select_epsilon_greedy_action(key, q_values, actor_state.count)\n",
        "    greedy_action = select_greedy_action(q_values)\n",
        "\n",
        "    action = jax.lax.select(\n",
        "        evaluation,\n",
        "        greedy_action,\n",
        "        action\n",
        "    )\n",
        "\n",
        "    next_actor_state = QActorState(actor_state.count + 1) # increment timestep counter\n",
        "\n",
        "    return action, next_actor_state\n",
        "\n",
        "Q_LEARNING_ACTOR_STATE = QActorState(0) # counter set to zero"
      ]
    },
    {
      "cell_type": "markdown",
      "metadata": {
        "id": "z884-1oNRGEr"
      },
      "source": [
        "### Обучение\n",
        "Теперь мы можем собрать все вместе, используя цикл агент-среда. Но сначала давайте объединим функцию выбора действия и функцию обучения для дополнительной скорости."
      ]
    },
    {
      "cell_type": "code",
      "execution_count": 185,
      "metadata": {
        "id": "xbdHDbd1RjM8",
        "colab": {
          "base_uri": "https://localhost:8080/",
          "height": 680
        },
        "outputId": "8ba72f7d-d89e-4b60-96f2-66f9706b1394"
      },
      "outputs": [
        {
          "output_type": "stream",
          "name": "stdout",
          "text": [
            "Starting training. This may take up to 8 minutes to complete.\n",
            "Episode: 0\tEpisode Return: 29.0\tAverage Episode Return: 29.0\tEvaluator Episode Return: 11.75\n",
            "Episode: 100\tEpisode Return: 13.0\tAverage Episode Return: 11.15\tEvaluator Episode Return: 9.625\n",
            "Episode: 200\tEpisode Return: 12.0\tAverage Episode Return: 9.45\tEvaluator Episode Return: 9.25\n",
            "Episode: 300\tEpisode Return: 9.0\tAverage Episode Return: 9.75\tEvaluator Episode Return: 9.75\n",
            "Episode: 400\tEpisode Return: 164.0\tAverage Episode Return: 151.85\tEvaluator Episode Return: 195.25\n",
            "Episode: 500\tEpisode Return: 200.0\tAverage Episode Return: 194.65\tEvaluator Episode Return: 200.0\n",
            "Episode: 600\tEpisode Return: 200.0\tAverage Episode Return: 194.7\tEvaluator Episode Return: 200.0\n",
            "Episode: 700\tEpisode Return: 200.0\tAverage Episode Return: 200.0\tEvaluator Episode Return: 200.0\n",
            "Episode: 800\tEpisode Return: 139.0\tAverage Episode Return: 184.15\tEvaluator Episode Return: 126.5\n",
            "Episode: 900\tEpisode Return: 200.0\tAverage Episode Return: 200.0\tEvaluator Episode Return: 200.0\n",
            "Episode: 1000\tEpisode Return: 200.0\tAverage Episode Return: 200.0\tEvaluator Episode Return: 200.0\n"
          ]
        },
        {
          "output_type": "display_data",
          "data": {
            "text/plain": [
              "<Figure size 640x480 with 1 Axes>"
            ],
            "image/png": "[encoded data removed]"
          },
          "metadata": {}
        }
      ],
      "source": [
        "# Jit functions\n",
        "q_learning_select_action_jit = jax.jit(q_learning_select_action)\n",
        "q_learn_jit = jax.jit(q_learn)\n",
        "\n",
        "# Run environment loop\n",
        "print(\"Starting training. This may take up to 8 minutes to complete.\")\n",
        "episode_returns, evaluator_returns = run_training_loop(\n",
        "                                        env_name,\n",
        "                                        Q_LEARNING_PARAMS,\n",
        "                                        q_learning_select_action_jit,\n",
        "                                        Q_LEARNING_ACTOR_STATE,\n",
        "                                        q_learn_jit,\n",
        "                                        Q_LEARNING_LEARN_STATE,\n",
        "                                        Q_LEARNING_MEMORY,\n",
        "                                        num_episodes=1001,\n",
        "                                        train_every_timestep=True, # do learning after every timestep\n",
        "                                        video_subdir=\"q_learning\"\n",
        "                                    )\n",
        "\n",
        "plt.plot(episode_returns)\n",
        "plt.xlabel(\"Episodes\")\n",
        "plt.ylabel(\"Episode Return\")\n",
        "plt.title(\"Deep Q-Learning\")\n",
        "plt.show()"
      ]
    },
    {
      "cell_type": "markdown",
      "metadata": {
        "id": "2k0-41wbpFDE"
      },
      "source": [
        "На этом этапе, как мы надеемся, приближенная Q-функция сошлась к приемлемой политике балансировки шеста в задаче CartPole."
      ]
    },
    {
      "cell_type": "code",
      "execution_count": 186,
      "metadata": {
        "id": "t4v0ZbB4FQUs",
        "colab": {
          "base_uri": "https://localhost:8080/",
          "height": 288
        },
        "outputId": "063d2d4d-c385-4128-b70e-dc7dd79571f2"
      },
      "outputs": [
        {
          "output_type": "execute_result",
          "data": {
            "text/plain": [
              "<IPython.core.display.HTML object>"
            ],
            "text/html": [
              "\n",
              "<video width=400 controls>\n",
              "      <source src=\"data:video/mp4;base64,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\" type=\"video/mp4\">\n",
              "</video>\n"
            ]
          },
          "metadata": {},
          "execution_count": 186
        }
      ],
      "source": [
        "#@title Визуализация политики\n",
        "#@markdown Выберите номер эпизода, кратный 100 и меньший или равный 1000, и **запустите эту ячейку**.\n",
        "episode_number = 1000 #@param {type:\"number\"}\n",
        "\n",
        "assert (episode_number % 100) == 0, \"Episode number must be a multiple of 100 since we only record every 100th episode.\"\n",
        "assert episode_number < 1001, \"Episode number must be less than or equal to 1000\"\n",
        "\n",
        "\n",
        "eval_episode_number = int(episode_number / 100 * 8)\n",
        "video_path = f\"./video/q_learning/eval/rl-video-episode-{eval_episode_number}.mp4\"\n",
        "\n",
        "mp4 = open(video_path,'rb').read()\n",
        "data_url = \"data:video/mp4;base64,\" + b64encode(mp4).decode()\n",
        "HTML(\"\"\"\n",
        "<video width=400 controls>\n",
        "      <source src=\"%s\" type=\"video/mp4\">\n",
        "</video>\n",
        "\"\"\" % data_url)"
      ]
    },
    {
      "cell_type": "markdown",
      "metadata": {
        "id": "fV3YG7QOZD-B"
      },
      "source": [
        "Кроме того, существует множество алгоритмов RL, которые вносят существенные улучшения в REINFORCE и Deep Q-Learning. См. эти ресурсы:\n",
        "* [REINFORCE с базовым уровнем](https://spinningup.openai.com/en/latest/spinningup/rl_intro3.html#baselines-in-policy-gradients)\n",
        "* [Double Deep Q-Network](https://arxiv.org/pdf/1509.06461.pdf)\n",
        "* [Proximal Policy Optimisation (PPO)](https://arxiv.org/pdf/1707.06347.pdf)\n",
        "\n",
        "Если вы ищете более углубленный онлайн-курс по RL, вы можете ознакомиться с этими курсами:\n",
        "* [Reinforcement Learning Foundations on LinkedIn Learning](https://www.linkedin.com/learning/reinforcement-learning-foundations) (создано одним из наших собственных преподавателей, Хаулатом Абдулхакимом)\n",
        "* [Введение в Reinforcement Learning on FreeCodeCamp](https://www.freecodecamp.org/news/an-introduction-to-reinforcement-learning-4339519de419/)\n",
        "* [Специализация обучения с подкреплением на Coursera](https://www.coursera.org/specializations/reinforcement-learning)\n",
        "\n",
        "Наконец, самый влиятельный учебник по обучению с подкреплением доступен бесплатно онлайн:\n",
        "* [Обучение с подкреплением: введение](http://incompleteideas.net/book/the-book-2nd.html) Ричарда С. Саттона и Эндрю Г. Барто\n",
        "\n",
        "\n",
        "**Ссылки:**\n",
        "\n",
        "* [OpenAI Spinning Up](https://spinningup.openai.com/en/latest/)\n",
        "* [Deep Q-Network]()"
      ]
    },
    {
      "cell_type": "code",
      "execution_count": null,
      "metadata": {
        "id": "6V47Vd_i3qk7"
      },
      "outputs": [],
      "source": []
    }
  ],
  "metadata": {
    "colab": {
      "gpuType": "T4",
      "provenance": []
    },
    "kernelspec": {
      "display_name": "Python 3 (ipykernel)",
      "language": "python",
      "name": "python3"
    },
    "language_info": {
      "codemirror_mode": {
        "name": "ipython",
        "version": 3
      },
      "file_extension": ".py",
      "mimetype": "text/x-python",
      "name": "python",
      "nbconvert_exporter": "python",
      "pygments_lexer": "ipython3",
      "version": "3.10.11"
    },
    "vscode": {
      "interpreter": {
        "hash": "0f35138c66f99be0fd7a1210bb4aa94a6fbaa5f29d51ad43aec0e0ea0ff050f0"
      }
    }
  },
  "nbformat": 4,
  "nbformat_minor": 0
}